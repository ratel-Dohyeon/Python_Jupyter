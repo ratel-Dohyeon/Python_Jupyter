{
 "cells": [
  {
   "cell_type": "markdown",
   "metadata": {},
   "source": [
    "## 시계열(TimeSeries) 분석\n",
    "\n",
    " * 1. (TimeSeries) 시계열 자료\n",
    "    * 연도별, 계절별, 월별, 일,시, 분, 초별로 시간의 흐음에 따라 관측된 자료\n",
    "     \n",
    " * 시계열자료의 분석 목적:\n",
    "    * 1) (forecast) 미래에 대한 예측\n",
    "    * 2) 시스템 또는 확률 과정의 이해와 제어(control)"
   ]
  },
  {
   "cell_type": "markdown",
   "metadata": {},
   "source": [
    "## datetime 오브젝트\n",
    "* 날짜와 시간을 처리하는 등의 가양한 기능을 제공하는 파이썬 라이브러리\n",
    "* 날짜를 처리하는 date 오브젝트\n",
    "* 시간을 처리하는 time 오브젝트\n",
    "* 날짜와 시간을 처리하는 datetime 오브젝트가 포함되어있다."
   ]
  },
  {
   "cell_type": "code",
   "execution_count": 1,
   "metadata": {},
   "outputs": [],
   "source": [
    "# datetime 라는 모듈(from) 에서 datetime 이라는 함수(import) 을 가져온다\n",
    "from datetime import datetime "
   ]
  },
  {
   "cell_type": "code",
   "execution_count": 16,
   "metadata": {},
   "outputs": [
    {
     "name": "stdout",
     "output_type": "stream",
     "text": [
      "2021-05-14 09:56:13.318310\n"
     ]
    }
   ],
   "source": [
    "now1 = datetime.now() # 현재시간 가져와서 now1에 넣어라(KST)\n",
    "print(now1)"
   ]
  },
  {
   "cell_type": "code",
   "execution_count": 17,
   "metadata": {},
   "outputs": [
    {
     "name": "stdout",
     "output_type": "stream",
     "text": [
      "2021-05-14 09:56:14.313539\n"
     ]
    }
   ],
   "source": [
    "# UTC(협정 세계시)\n",
    "now2 = datetime.today()\n",
    "print(now2) "
   ]
  },
  {
   "cell_type": "code",
   "execution_count": 19,
   "metadata": {},
   "outputs": [
    {
     "name": "stdout",
     "output_type": "stream",
     "text": [
      "2021-05-14 09:58:01.304825\n",
      "1970-01-01 00:00:00\n",
      "1970-12-12 13:24:34\n"
     ]
    }
   ],
   "source": [
    "# 시간을 직접 입력 인자로 전달\n",
    "t1 = datetime.now() #현재 시간 \n",
    "t2 = datetime(1970, 1, 1) # 년,월,일<- 인자로 전달 \n",
    "t3 = datetime(1970, 12, 12, 13, 24, 34) # 년,월,일,시,분,초 <- 인자로 전달 \n",
    "\n",
    "print(t1)\n",
    "print(t2)\n",
    "print(t3)"
   ]
  },
  {
   "cell_type": "code",
   "execution_count": 5,
   "metadata": {},
   "outputs": [
    {
     "name": "stdout",
     "output_type": "stream",
     "text": [
      "18761 days, 9:36:41.125093\n",
      "<class 'datetime.timedelta'>\n"
     ]
    }
   ],
   "source": [
    "# datetime 객체에서 datetime 객체를 빼면 시간이 나온다\n",
    "# datetime 오브젝트를 사용하는 이유 중 하나는 시간계산을 할 수 있다\n",
    "\n",
    "diff1 = t1 - t2\n",
    "\n",
    "print(diff1)\n",
    "print(type(diff1))"
   ]
  },
  {
   "cell_type": "code",
   "execution_count": 6,
   "metadata": {},
   "outputs": [
    {
     "name": "stdout",
     "output_type": "stream",
     "text": [
      "-18762 days, 14:23:18.874907\n",
      "<class 'datetime.timedelta'>\n"
     ]
    }
   ],
   "source": [
    "diff2 = t2 - t1\n",
    "\n",
    "print(diff2)\n",
    "print(type(diff2))"
   ]
  },
  {
   "cell_type": "markdown",
   "metadata": {},
   "source": [
    "## 문자열을 datetime 오브젝트로 변환하기\n",
    "* 시계열 데이터를 문자열로 저장 --> 시간 계산을 할 수 없기 때문에 datetime 오브젝트로 변환해야함\n",
    "* to_datetime 메서드를 사용하여 문자열을 datetime 오브젝트로 변환"
   ]
  },
  {
   "cell_type": "code",
   "execution_count": 20,
   "metadata": {},
   "outputs": [],
   "source": [
    "import pandas as pd \n",
    "import os\n",
    "ebola = pd.read_csv('../data/country_timeseries.csv')"
   ]
  },
  {
   "cell_type": "code",
   "execution_count": 21,
   "metadata": {},
   "outputs": [
    {
     "name": "stdout",
     "output_type": "stream",
     "text": [
      "<class 'pandas.core.frame.DataFrame'>\n",
      "RangeIndex: 122 entries, 0 to 121\n",
      "Data columns (total 18 columns):\n",
      "Date                   122 non-null object\n",
      "Day                    122 non-null int64\n",
      "Cases_Guinea           93 non-null float64\n",
      "Cases_Liberia          83 non-null float64\n",
      "Cases_SierraLeone      87 non-null float64\n",
      "Cases_Nigeria          38 non-null float64\n",
      "Cases_Senegal          25 non-null float64\n",
      "Cases_UnitedStates     18 non-null float64\n",
      "Cases_Spain            16 non-null float64\n",
      "Cases_Mali             12 non-null float64\n",
      "Deaths_Guinea          92 non-null float64\n",
      "Deaths_Liberia         81 non-null float64\n",
      "Deaths_SierraLeone     87 non-null float64\n",
      "Deaths_Nigeria         38 non-null float64\n",
      "Deaths_Senegal         22 non-null float64\n",
      "Deaths_UnitedStates    18 non-null float64\n",
      "Deaths_Spain           16 non-null float64\n",
      "Deaths_Mali            12 non-null float64\n",
      "dtypes: float64(16), int64(1), object(1)\n",
      "memory usage: 17.3+ KB\n",
      "None\n"
     ]
    }
   ],
   "source": [
    "print(ebola.info())\n",
    "# date 가 object 타입으로 지정되어 있는 상태_계산 안됨 "
   ]
  },
  {
   "cell_type": "code",
   "execution_count": 22,
   "metadata": {},
   "outputs": [
    {
     "name": "stdout",
     "output_type": "stream",
     "text": [
      "<class 'pandas.core.frame.DataFrame'>\n",
      "RangeIndex: 122 entries, 0 to 121\n",
      "Data columns (total 19 columns):\n",
      "Date                   122 non-null object\n",
      "Day                    122 non-null int64\n",
      "Cases_Guinea           93 non-null float64\n",
      "Cases_Liberia          83 non-null float64\n",
      "Cases_SierraLeone      87 non-null float64\n",
      "Cases_Nigeria          38 non-null float64\n",
      "Cases_Senegal          25 non-null float64\n",
      "Cases_UnitedStates     18 non-null float64\n",
      "Cases_Spain            16 non-null float64\n",
      "Cases_Mali             12 non-null float64\n",
      "Deaths_Guinea          92 non-null float64\n",
      "Deaths_Liberia         81 non-null float64\n",
      "Deaths_SierraLeone     87 non-null float64\n",
      "Deaths_Nigeria         38 non-null float64\n",
      "Deaths_Senegal         22 non-null float64\n",
      "Deaths_UnitedStates    18 non-null float64\n",
      "Deaths_Spain           16 non-null float64\n",
      "Deaths_Mali            12 non-null float64\n",
      "date_dt                122 non-null datetime64[ns]\n",
      "dtypes: datetime64[ns](1), float64(16), int64(1), object(1)\n",
      "memory usage: 18.2+ KB\n",
      "None\n"
     ]
    }
   ],
   "source": [
    "# to_datetime = object로 되어있는 Date(칼럼)를 datetime64(date_dt <- 여기에) 타입으로 바꿈\n",
    "\n",
    "ebola['date_dt'] = pd.to_datetime(ebola['Date'])\n",
    "print(ebola.info())"
   ]
  },
  {
   "cell_type": "code",
   "execution_count": 25,
   "metadata": {},
   "outputs": [
    {
     "name": "stdout",
     "output_type": "stream",
     "text": [
      "  order_day   date_dt1   date_dt2   date_dt3\n",
      "0  01/01/15 2015-01-01 2015-01-01 2001-01-15\n",
      "1  02/01/15 2015-01-02 2015-02-01 2002-01-15\n",
      "2  03/01/15 2015-01-03 2015-03-01 2003-01-15\n"
     ]
    }
   ],
   "source": [
    "# test_df1에 DataFrame화 해서 행에는 order_day 넣고 열에는 01/01/15', '02/01/15', '03/01/15 를 넣는다.\n",
    "# test_df1에 date_dt1 칼럼을 생성하고 거기에 to_datetime화 한 order_day를 넣고 format='%d/%m/%y' 을 지정한다.\n",
    "\n",
    "test_df1 = pd.DataFrame({'order_day':['01/01/15', '02/01/15', '03/01/15']})\n",
    "\n",
    "test_df1['date_dt1'] = pd.to_datetime(test_df1['order_day'], format='%d/%m/%y') # 배치는 항상 년,월,일\n",
    "test_df1['date_dt2'] = pd.to_datetime(test_df1['order_day'], format='%m/%d/%y')\n",
    "test_df1['date_dt3'] = pd.to_datetime(test_df1['order_day'], format='%y/%m/%d')\n",
    "\n",
    "print(test_df1)"
   ]
  },
  {
   "cell_type": "code",
   "execution_count": 26,
   "metadata": {},
   "outputs": [
    {
     "name": "stdout",
     "output_type": "stream",
     "text": [
      "  order_day    date_dt\n",
      "0  01-01-15 2015-01-01\n",
      "1  02-01-15 2015-01-02\n",
      "2  03-01-15 2015-01-03\n"
     ]
    }
   ],
   "source": [
    "#위에꺼랑 동일 \n",
    "\n",
    "test_df2 = pd.DataFrame({'order_day':['01-01-15', '02-01-15', '03-01-15']})\n",
    "test_df2['date_dt'] = pd.to_datetime(test_df2['order_day'], format='%d-%m-%y') # 위에서에서 '-' <- 얘 추가 \n",
    "\n",
    "print(test_df2)"
   ]
  },
  {
   "cell_type": "markdown",
   "metadata": {},
   "source": [
    "## 시계열 데이터를 구분해서 추출"
   ]
  },
  {
   "cell_type": "code",
   "execution_count": 27,
   "metadata": {},
   "outputs": [
    {
     "name": "stdout",
     "output_type": "stream",
     "text": [
      "2021-05-14 10:48:34.812867\n"
     ]
    }
   ],
   "source": [
    "now = datetime.now() # 현재 시,분,초\n",
    "print(now)"
   ]
  },
  {
   "cell_type": "code",
   "execution_count": 35,
   "metadata": {},
   "outputs": [
    {
     "name": "stdout",
     "output_type": "stream",
     "text": [
      "2021-05-14\n",
      "10:--48:--34\n",
      "2021-05-14 <> 10:--48:--34\n"
     ]
    }
   ],
   "source": [
    "# strftime 메서드와 시간 형식 지정자을 이용하여 시계열 데이터를 잘라냄\n",
    "\n",
    "nowDate = now.strftime('%Y-%m-%d') # 현재 시간에서 %Y-%m-%d 이것만 잘라(추출)가지고 오겠다.\n",
    "nowDate2 = now.strftime('%H:--%M:--%S') #, 시:--분:--초\n",
    "nowDate3 = now.strftime('%Y-%m-%d <> %H:--%M:--%S') # 연-월-일 <>시:--분:--초\n",
    "print(nowDate)\n",
    "print(nowDate2)\n",
    "print(nowDate3)"
   ]
  },
  {
   "cell_type": "code",
   "execution_count": 30,
   "metadata": {},
   "outputs": [
    {
     "name": "stdout",
     "output_type": "stream",
     "text": [
      "10:48:34\n"
     ]
    }
   ],
   "source": [
    "nowTime = now.strftime('%H:%M:%S') # 현재 시간에서 '%H:%M:%S' 이것만 잘라(추출) 가지고 오겠다.\n",
    "print(nowTime) "
   ]
  },
  {
   "cell_type": "code",
   "execution_count": 15,
   "metadata": {},
   "outputs": [
    {
     "name": "stdout",
     "output_type": "stream",
     "text": [
      "2021-05-14 08:41:47\n"
     ]
    }
   ],
   "source": [
    "nowDatetime = now.strftime('%Y-%m-%d %H:%M:%S')\n",
    "print(nowDatetime) "
   ]
  },
  {
   "cell_type": "markdown",
   "metadata": {},
   "source": [
    "## datetime 오브젝트로 변환하려는 열을 지정하여 데이터 집합 불러오기\n",
    "* 위에서는 to_datetime 메서드를 사용하여 문자열로 저장된 Date열을 datetime 오브젝트로 변환\n",
    "* pars_dates 옵셕을 부여하여 문자열을 datetime으로 불러올 수 있다"
   ]
  },
  {
   "cell_type": "code",
   "execution_count": 36,
   "metadata": {},
   "outputs": [
    {
     "name": "stdout",
     "output_type": "stream",
     "text": [
      "<class 'pandas.core.frame.DataFrame'>\n",
      "RangeIndex: 122 entries, 0 to 121\n",
      "Data columns (total 18 columns):\n",
      "Date                   122 non-null datetime64[ns]\n",
      "Day                    122 non-null int64\n",
      "Cases_Guinea           93 non-null float64\n",
      "Cases_Liberia          83 non-null float64\n",
      "Cases_SierraLeone      87 non-null float64\n",
      "Cases_Nigeria          38 non-null float64\n",
      "Cases_Senegal          25 non-null float64\n",
      "Cases_UnitedStates     18 non-null float64\n",
      "Cases_Spain            16 non-null float64\n",
      "Cases_Mali             12 non-null float64\n",
      "Deaths_Guinea          92 non-null float64\n",
      "Deaths_Liberia         81 non-null float64\n",
      "Deaths_SierraLeone     87 non-null float64\n",
      "Deaths_Nigeria         38 non-null float64\n",
      "Deaths_Senegal         22 non-null float64\n",
      "Deaths_UnitedStates    18 non-null float64\n",
      "Deaths_Spain           16 non-null float64\n",
      "Deaths_Mali            12 non-null float64\n",
      "dtypes: datetime64[ns](1), float64(16), int64(1)\n",
      "memory usage: 17.3 KB\n",
      "None\n"
     ]
    }
   ],
   "source": [
    "ebola1 = pd.read_csv('../data/country_timeseries.csv', parse_dates=['Date']) #데이터를 불러오면서 parse_dates=['Date'] 으로 타입 변경\n",
    "print(ebola1.info())"
   ]
  },
  {
   "cell_type": "markdown",
   "metadata": {},
   "source": [
    "## datetime 오브젝트에서 날짜 정보 추출하기\n",
    "* datetime 오브젝트에는 년,월,일과 같은 날짜 정보가 따로 저장되어 있다.(속성 존재)\n",
    "* datetime 오브젝트에서 날짜 정보 추출"
   ]
  },
  {
   "cell_type": "code",
   "execution_count": 37,
   "metadata": {},
   "outputs": [
    {
     "name": "stdout",
     "output_type": "stream",
     "text": [
      "0   2018-05-16\n",
      "1   2018-05-17\n",
      "2   2018-05-18\n",
      "dtype: datetime64[ns]\n"
     ]
    }
   ],
   "source": [
    "date_series = pd.Series(['2018-05-16', '2018-05-17', '2018-05-18']) #칼럼 생성 후 데이터('2018-05-16', '2018-05-17', '2018-05-18') 넣음 \n",
    "d1 = pd.to_datetime(date_series) # 타입 변경\n",
    "print(d1)"
   ]
  },
  {
   "cell_type": "code",
   "execution_count": 42,
   "metadata": {},
   "outputs": [
    {
     "name": "stdout",
     "output_type": "stream",
     "text": [
      "2018\n"
     ]
    }
   ],
   "source": [
    "print(d1[0].year) # 년만 가져와"
   ]
  },
  {
   "cell_type": "code",
   "execution_count": 19,
   "metadata": {},
   "outputs": [
    {
     "name": "stdout",
     "output_type": "stream",
     "text": [
      "5\n"
     ]
    }
   ],
   "source": [
    "print(d1[0].month)# 월만 가져와"
   ]
  },
  {
   "cell_type": "code",
   "execution_count": 47,
   "metadata": {},
   "outputs": [
    {
     "name": "stdout",
     "output_type": "stream",
     "text": [
      "16\n"
     ]
    }
   ],
   "source": [
    "print(d1[0].day)# 날만 가져와 * [0] = 열의 순서. 저기에는 지금 0~2까지 순서대로 있음 "
   ]
  },
  {
   "cell_type": "markdown",
   "metadata": {},
   "source": [
    "## dt 접근자로 시계열 데이터 정리하기"
   ]
  },
  {
   "cell_type": "code",
   "execution_count": 21,
   "metadata": {},
   "outputs": [],
   "source": [
    "ebola = pd.read_csv('../data/country_timeseries.csv') # 데이터 불러오기\n",
    "ebola['date_dt'] = pd.to_datetime(ebola['Date']) # date 타입으로 변경하고 ebola에 ['date_dt'] 칼럼 생성 "
   ]
  },
  {
   "cell_type": "code",
   "execution_count": 49,
   "metadata": {},
   "outputs": [
    {
     "name": "stdout",
     "output_type": "stream",
     "text": [
      "         Date    date_dt\n",
      "0    1/5/2015 2015-01-05\n",
      "1    1/4/2015 2015-01-04\n",
      "2    1/3/2015 2015-01-03\n",
      "3    1/2/2015 2015-01-02\n",
      "4  12/31/2014 2014-12-31\n"
     ]
    }
   ],
   "source": [
    "print(ebola[['Date', 'date_dt']].head())"
   ]
  },
  {
   "cell_type": "code",
   "execution_count": 48,
   "metadata": {},
   "outputs": [
    {
     "name": "stdout",
     "output_type": "stream",
     "text": [
      "2015\n"
     ]
    }
   ],
   "source": [
    "print(ebola['date_dt'][3].year) # 3번째 줄에 있는 연도를 가져와 (인덱스 사용)"
   ]
  },
  {
   "cell_type": "code",
   "execution_count": 24,
   "metadata": {},
   "outputs": [
    {
     "name": "stdout",
     "output_type": "stream",
     "text": [
      "1\n"
     ]
    }
   ],
   "source": [
    "print(ebola['date_dt'][3].month) # 3번째 줄에 있는 월을 가져와 (인덱스 사용)"
   ]
  },
  {
   "cell_type": "code",
   "execution_count": 25,
   "metadata": {},
   "outputs": [
    {
     "name": "stdout",
     "output_type": "stream",
     "text": [
      "2\n"
     ]
    }
   ],
   "source": [
    "print(ebola['date_dt'][3].day) # 3번째 줄에 있는 날을 가져와 (인덱스 사용)"
   ]
  },
  {
   "cell_type": "code",
   "execution_count": 26,
   "metadata": {},
   "outputs": [
    {
     "name": "stdout",
     "output_type": "stream",
     "text": [
      "         Date    date_dt  year\n",
      "0    1/5/2015 2015-01-05  2015\n",
      "1    1/4/2015 2015-01-04  2015\n",
      "2    1/3/2015 2015-01-03  2015\n",
      "3    1/2/2015 2015-01-02  2015\n",
      "4  12/31/2014 2014-12-31  2014\n"
     ]
    }
   ],
   "source": [
    "# dt 접근자로 date_dt열에 한번에 접근해서 year 속성을 이용하여 년도값 추출\n",
    "# 추출한 year 를 ebola df의 새로운 열['year'] 추가\n",
    "\n",
    "ebola['year'] = ebola['date_dt'].dt.year \n",
    "print(ebola[['Date', 'date_dt', 'year']].head())"
   ]
  },
  {
   "cell_type": "code",
   "execution_count": 27,
   "metadata": {},
   "outputs": [
    {
     "name": "stdout",
     "output_type": "stream",
     "text": [
      "         Date    date_dt  year  month  day\n",
      "0    1/5/2015 2015-01-05  2015      1    5\n",
      "1    1/4/2015 2015-01-04  2015      1    4\n",
      "2    1/3/2015 2015-01-03  2015      1    3\n",
      "3    1/2/2015 2015-01-02  2015      1    2\n",
      "4  12/31/2014 2014-12-31  2014     12   31\n"
     ]
    }
   ],
   "source": [
    "# month, day 칼럼을 생성하고 여기에 date_dt의 month,day 만 잘라서 넣어라\n",
    "# 그리고 칼럼 'Date', 'date_dt', 'year', 'month', 'day' 를 출력해라\n",
    "\n",
    "ebola['month'], ebola['day'] = (ebola['date_dt'].dt.month, ebola['date_dt'].dt.day)\n",
    "\n",
    "print(ebola[['Date', 'date_dt', 'year', 'month', 'day']].head())"
   ]
  },
  {
   "cell_type": "code",
   "execution_count": 28,
   "metadata": {},
   "outputs": [
    {
     "name": "stdout",
     "output_type": "stream",
     "text": [
      "<class 'pandas.core.frame.DataFrame'>\n",
      "RangeIndex: 122 entries, 0 to 121\n",
      "Data columns (total 22 columns):\n",
      " #   Column               Non-Null Count  Dtype         \n",
      "---  ------               --------------  -----         \n",
      " 0   Date                 122 non-null    object        \n",
      " 1   Day                  122 non-null    int64         \n",
      " 2   Cases_Guinea         93 non-null     float64       \n",
      " 3   Cases_Liberia        83 non-null     float64       \n",
      " 4   Cases_SierraLeone    87 non-null     float64       \n",
      " 5   Cases_Nigeria        38 non-null     float64       \n",
      " 6   Cases_Senegal        25 non-null     float64       \n",
      " 7   Cases_UnitedStates   18 non-null     float64       \n",
      " 8   Cases_Spain          16 non-null     float64       \n",
      " 9   Cases_Mali           12 non-null     float64       \n",
      " 10  Deaths_Guinea        92 non-null     float64       \n",
      " 11  Deaths_Liberia       81 non-null     float64       \n",
      " 12  Deaths_SierraLeone   87 non-null     float64       \n",
      " 13  Deaths_Nigeria       38 non-null     float64       \n",
      " 14  Deaths_Senegal       22 non-null     float64       \n",
      " 15  Deaths_UnitedStates  18 non-null     float64       \n",
      " 16  Deaths_Spain         16 non-null     float64       \n",
      " 17  Deaths_Mali          12 non-null     float64       \n",
      " 18  date_dt              122 non-null    datetime64[ns]\n",
      " 19  year                 122 non-null    int64         \n",
      " 20  month                122 non-null    int64         \n",
      " 21  day                  122 non-null    int64         \n",
      "dtypes: datetime64[ns](1), float64(16), int64(4), object(1)\n",
      "memory usage: 21.1+ KB\n",
      "None\n"
     ]
    }
   ],
   "source": [
    "print(ebola.info())"
   ]
  },
  {
   "cell_type": "markdown",
   "metadata": {},
   "source": [
    "## 에볼라 최초 발병일 계산하기"
   ]
  },
  {
   "cell_type": "code",
   "execution_count": 29,
   "metadata": {},
   "outputs": [
    {
     "name": "stdout",
     "output_type": "stream",
     "text": [
      "          Date  Day  Cases_Guinea  Cases_Liberia  Cases_SierraLeone\n",
      "117  3/27/2014    5         103.0            8.0                6.0\n",
      "118  3/26/2014    4          86.0            NaN                NaN\n",
      "119  3/25/2014    3          86.0            NaN                NaN\n",
      "120  3/24/2014    2          86.0            NaN                NaN\n",
      "121  3/22/2014    0          49.0            NaN                NaN\n"
     ]
    }
   ],
   "source": [
    "# 끝에서 5개 가지고오고 칼럼도 5개만 가져와 (행:열)\n",
    "# 데이터가 시간 역순으로 정렬되어 있다.\n",
    "\n",
    "print(ebola.iloc[-5:, :5]) "
   ]
  },
  {
   "cell_type": "code",
   "execution_count": 50,
   "metadata": {},
   "outputs": [
    {
     "name": "stdout",
     "output_type": "stream",
     "text": [
      "2014-03-22 00:00:00\n",
      "2015-01-05 00:00:00\n",
      "<class 'pandas._libs.tslibs.timestamps.Timestamp'>\n"
     ]
    }
   ],
   "source": [
    "# 에볼라 최초 발병일 2014-03-22_ min 메ㅐ서드를 사용하여 확인\n",
    "\n",
    "print(ebola['date_dt'].min()) # 최초 발생 (최소값)\n",
    "print(ebola['date_dt'].max()) # 최근 발생 (최대값)\n",
    "print(type(ebola['date_dt'].min()))"
   ]
  },
  {
   "cell_type": "code",
   "execution_count": 31,
   "metadata": {},
   "outputs": [
    {
     "name": "stdout",
     "output_type": "stream",
     "text": [
      "         Date  Day outbreak_d\n",
      "0    1/5/2015  289   289 days\n",
      "1    1/4/2015  288   288 days\n",
      "2    1/3/2015  287   287 days\n",
      "3    1/2/2015  286   286 days\n",
      "4  12/31/2014  284   284 days\n"
     ]
    }
   ],
   "source": [
    "# Date 열에서 에볼라 최초 발병일을 빼면 에볼라 진행(기간) 정도를 알 수 있다.\n",
    "\n",
    "ebola['outbreak_d'] = ebola['date_dt'] - ebola['date_dt'].min()\n",
    "\n",
    "print(ebola[['Date', 'Day', 'outbreak_d']].head())"
   ]
  },
  {
   "cell_type": "markdown",
   "metadata": {},
   "source": [
    "## 파산한 은행의 개수 계산하기"
   ]
  },
  {
   "cell_type": "code",
   "execution_count": 51,
   "metadata": {},
   "outputs": [
    {
     "name": "stdout",
     "output_type": "stream",
     "text": [
      "                                           Bank Name         City  ST   CERT  \\\n",
      "0                Washington Federal Bank for Savings      Chicago  IL  30570   \n",
      "1    The Farmers and Merchants State Bank of Argonia      Argonia  KS  17719   \n",
      "2                                Fayette County Bank   Saint Elmo  IL   1802   \n",
      "3  Guaranty Bank, (d/b/a BestBank in Georgia & Mi...    Milwaukee  WI  30003   \n",
      "4                                     First NBC Bank  New Orleans  LA  58302   \n",
      "\n",
      "                 Acquiring Institution Closing Date Updated Date  \n",
      "0                   Royal Savings Bank    15-Dec-17    20-Dec-17  \n",
      "1                          Conway Bank    13-Oct-17    20-Oct-17  \n",
      "2            United Fidelity Bank, fsb    26-May-17    26-Jul-17  \n",
      "3  First-Citizens Bank & Trust Company     5-May-17    26-Jul-17  \n",
      "4                         Whitney Bank    28-Apr-17     5-Dec-17  \n"
     ]
    }
   ],
   "source": [
    "banks = pd.read_csv('../data/banklist.csv') \n",
    "print(banks.head())"
   ]
  },
  {
   "cell_type": "code",
   "execution_count": 33,
   "metadata": {},
   "outputs": [
    {
     "name": "stdout",
     "output_type": "stream",
     "text": [
      "<class 'pandas.core.frame.DataFrame'>\n",
      "RangeIndex: 555 entries, 0 to 554\n",
      "Data columns (total 7 columns):\n",
      " #   Column                 Non-Null Count  Dtype \n",
      "---  ------                 --------------  ----- \n",
      " 0   Bank Name              555 non-null    object\n",
      " 1   City                   555 non-null    object\n",
      " 2   ST                     555 non-null    object\n",
      " 3   CERT                   555 non-null    int64 \n",
      " 4   Acquiring Institution  555 non-null    object\n",
      " 5   Closing Date           555 non-null    object\n",
      " 6   Updated Date           555 non-null    object\n",
      "dtypes: int64(1), object(6)\n",
      "memory usage: 30.5+ KB\n",
      "None\n"
     ]
    }
   ],
   "source": [
    "# Closing Date, Updated Date 가 현재 object(문자열)로 들어가 있음.\n",
    "\n",
    "banks_no_dates = pd.read_csv('../data/banklist.csv')\n",
    "print(banks_no_dates.info())"
   ]
  },
  {
   "cell_type": "code",
   "execution_count": 55,
   "metadata": {},
   "outputs": [
    {
     "name": "stdout",
     "output_type": "stream",
     "text": [
      "<class 'pandas.core.frame.DataFrame'>\n",
      "RangeIndex: 555 entries, 0 to 554\n",
      "Data columns (total 7 columns):\n",
      "Bank Name                555 non-null object\n",
      "City                     555 non-null object\n",
      "ST                       555 non-null object\n",
      "CERT                     555 non-null int64\n",
      "Acquiring Institution    555 non-null object\n",
      "Closing Date             555 non-null datetime64[ns]\n",
      "Updated Date             555 non-null datetime64[ns]\n",
      "dtypes: datetime64[ns](2), int64(1), object(4)\n",
      "memory usage: 30.5+ KB\n",
      "None\n"
     ]
    }
   ],
   "source": [
    "banks = pd.read_csv('../data/banklist.csv', parse_dates=[5, 6]) # 5,6(인덱스) 열만 Date 타입으로 변환해서 가져와\n",
    "print(banks.info())"
   ]
  },
  {
   "cell_type": "code",
   "execution_count": 35,
   "metadata": {},
   "outputs": [
    {
     "name": "stdout",
     "output_type": "stream",
     "text": [
      "                                           Bank Name         City  ST   CERT  \\\n",
      "0                Washington Federal Bank for Savings      Chicago  IL  30570   \n",
      "1    The Farmers and Merchants State Bank of Argonia      Argonia  KS  17719   \n",
      "2                                Fayette County Bank   Saint Elmo  IL   1802   \n",
      "3  Guaranty Bank, (d/b/a BestBank in Georgia & Mi...    Milwaukee  WI  30003   \n",
      "4                                     First NBC Bank  New Orleans  LA  58302   \n",
      "\n",
      "                 Acquiring Institution Closing Date Updated Date  \\\n",
      "0                   Royal Savings Bank   2017-12-15   2017-12-20   \n",
      "1                          Conway Bank   2017-10-13   2017-10-20   \n",
      "2            United Fidelity Bank, fsb   2017-05-26   2017-07-26   \n",
      "3  First-Citizens Bank & Trust Company   2017-05-05   2017-07-26   \n",
      "4                         Whitney Bank   2017-04-28   2017-12-05   \n",
      "\n",
      "   closing_quarter  closing_year  \n",
      "0                4          2017  \n",
      "1                4          2017  \n",
      "2                2          2017  \n",
      "3                2          2017  \n",
      "4                2          2017  \n"
     ]
    }
   ],
   "source": [
    "# dt 접근자와 year, quarter 속성을 이용하여 은행이 파산한 연도, 분기를 새호운 열로 추가\n",
    "\n",
    "banks['closing_quarter'], banks['closing_year'] = (banks['Closing Date'].dt.quarter, banks['Closing Date'].dt.year)\n",
    "\n",
    "print(banks.head())"
   ]
  },
  {
   "cell_type": "code",
   "execution_count": 36,
   "metadata": {},
   "outputs": [
    {
     "name": "stdout",
     "output_type": "stream",
     "text": [
      "closing_year\n",
      "2000      2\n",
      "2001      4\n",
      "2002     11\n",
      "2003      3\n",
      "2004      4\n",
      "2007      3\n",
      "2008     25\n",
      "2009    140\n",
      "2010    157\n",
      "2011     92\n",
      "2012     51\n",
      "2013     24\n",
      "2014     18\n",
      "2015      8\n",
      "2016      5\n",
      "2017      8\n",
      "dtype: int64\n"
     ]
    }
   ],
   "source": [
    "# groupby 갈기면 연도별로 파산한 은행의 개수 구함\n",
    "\n",
    "closing_year = banks.groupby(['closing_year']).size()\n",
    "\n",
    "print(closing_year)"
   ]
  },
  {
   "cell_type": "code",
   "execution_count": 37,
   "metadata": {
    "collapsed": true
   },
   "outputs": [
    {
     "name": "stdout",
     "output_type": "stream",
     "text": [
      "closing_year  closing_quarter\n",
      "2000          4                   2\n",
      "2001          1                   1\n",
      "              2                   1\n",
      "              3                   2\n",
      "2002          1                   6\n",
      "              2                   2\n",
      "              3                   1\n",
      "              4                   2\n",
      "2003          1                   1\n",
      "              2                   1\n",
      "              4                   1\n",
      "2004          1                   3\n",
      "              2                   1\n",
      "2007          1                   1\n",
      "              3                   1\n",
      "              4                   1\n",
      "2008          1                   2\n",
      "              2                   2\n",
      "              3                   9\n",
      "              4                  12\n",
      "2009          1                  21\n",
      "              2                  24\n",
      "              3                  50\n",
      "              4                  45\n",
      "2010          1                  41\n",
      "              2                  45\n",
      "              3                  41\n",
      "              4                  30\n",
      "2011          1                  26\n",
      "              2                  22\n",
      "              3                  26\n",
      "              4                  18\n",
      "2012          1                  16\n",
      "              2                  15\n",
      "              3                  12\n",
      "              4                   8\n",
      "2013          1                   4\n",
      "              2                  12\n",
      "              3                   6\n",
      "              4                   2\n",
      "2014          1                   5\n",
      "              2                   7\n",
      "              3                   2\n",
      "              4                   4\n",
      "2015          1                   4\n",
      "              2                   1\n",
      "              3                   1\n",
      "              4                   2\n",
      "2016          1                   1\n",
      "              2                   2\n",
      "              3                   2\n",
      "2017          1                   3\n",
      "              2                   3\n",
      "              4                   2\n",
      "dtype: int64\n"
     ]
    }
   ],
   "source": [
    "#연도별로 그룹화 한 다음 다시 분기별로 그룹화 하여 출력 \n",
    "\n",
    "closing_year_q = banks.groupby(['closing_year', 'closing_quarter']).size()\n",
    "\n",
    "print(closing_year_q)"
   ]
  },
  {
   "cell_type": "code",
   "execution_count": 39,
   "metadata": {},
   "outputs": [
    {
     "data": {
      "image/png": "[encoded data removed]",
      "text/plain": [
       "<Figure size 432x288 with 1 Axes>"
      ]
     },
     "metadata": {
      "needs_background": "light"
     },
     "output_type": "display_data"
    },
    {
     "data": {
      "image/png": "[encoded data removed]",
      "text/plain": [
       "<Figure size 432x288 with 1 Axes>"
      ]
     },
     "metadata": {
      "needs_background": "light"
     },
     "output_type": "display_data"
    }
   ],
   "source": [
    "import matplotlib.pyplot as plt\n",
    "\n",
    "fig, ax = plt.subplots()\n",
    "\n",
    "ax = closing_year.plot() \n",
    "plt.show()\n",
    "\n",
    "fig, ax = plt.subplots() \n",
    "ax = closing_year_q.plot() \n",
    "plt.show()"
   ]
  },
  {
   "cell_type": "markdown",
   "metadata": {},
   "source": [
    "## 테슬라 주식 데이터로 시간 계산하기"
   ]
  },
  {
   "cell_type": "code",
   "execution_count": 85,
   "metadata": {},
   "outputs": [
    {
     "name": "stdout",
     "output_type": "stream",
     "text": [
      "<class 'pandas.core.frame.DataFrame'>\n",
      "RangeIndex: 1949 entries, 0 to 1948\n",
      "Data columns (total 13 columns):\n",
      "Date          1949 non-null datetime64[ns]\n",
      "Open          1949 non-null float64\n",
      "High          1949 non-null float64\n",
      "Low           1949 non-null float64\n",
      "Close         1949 non-null float64\n",
      "Volume        1949 non-null float64\n",
      "ExDividend    1949 non-null float64\n",
      "SplitRatio    1949 non-null float64\n",
      "AdjOpen       1949 non-null float64\n",
      "AdjHigh       1949 non-null float64\n",
      "AdjLow        1949 non-null float64\n",
      "AdjClose      1949 non-null float64\n",
      "AdjVolume     1949 non-null float64\n",
      "dtypes: datetime64[ns](1), float64(12)\n",
      "memory usage: 198.1 KB\n",
      "None\n"
     ]
    }
   ],
   "source": [
    "# Date 열을 parse_dates인자에 전달하여  Datetime 타입으로 변경 \n",
    "tesla = pd.read_csv('../data/tesla_stock_quandl.csv', parse_dates=[0])\n",
    "print(tesla.info())"
   ]
  },
  {
   "cell_type": "code",
   "execution_count": 86,
   "metadata": {},
   "outputs": [
    {
     "name": "stdout",
     "output_type": "stream",
     "text": [
      "           Date   Open     High    Low  Close      Volume  ExDividend  \\\n",
      "1947 2010-06-30  25.79  30.4192  23.30  23.83  17187100.0         0.0   \n",
      "1948 2010-06-29  19.00  25.0000  17.54  23.89  18766300.0         0.0   \n",
      "\n",
      "      SplitRatio  AdjOpen  AdjHigh  AdjLow  AdjClose   AdjVolume  \n",
      "1947         1.0    25.79  30.4192   23.30     23.83  17187100.0  \n",
      "1948         1.0    19.00  25.0000   17.54     23.89  18766300.0  \n"
     ]
    }
   ],
   "source": [
    "# dt접근자를 이용하여 2010년 6월 데이터 추출 \n",
    "\n",
    "print(tesla.loc[(tesla.Date.dt.year == 2010) & (tesla.Date.dt.month == 6)])"
   ]
  },
  {
   "cell_type": "markdown",
   "metadata": {},
   "source": [
    "## datetime 오브젝트를 인덱스로 설정하여 데이터 추출하기"
   ]
  },
  {
   "cell_type": "code",
   "execution_count": 87,
   "metadata": {},
   "outputs": [
    {
     "name": "stdout",
     "output_type": "stream",
     "text": [
      "DatetimeIndex(['2018-03-27', '2018-03-26', '2018-03-23', '2018-03-22',\n",
      "               '2018-03-21', '2018-03-20', '2018-03-19', '2018-03-16',\n",
      "               '2018-03-15', '2018-03-14',\n",
      "               ...\n",
      "               '2010-07-13', '2010-07-12', '2010-07-09', '2010-07-08',\n",
      "               '2010-07-07', '2010-07-06', '2010-07-02', '2010-07-01',\n",
      "               '2010-06-30', '2010-06-29'],\n",
      "              dtype='datetime64[ns]', name='Date', length=1949, freq=None)\n"
     ]
    }
   ],
   "source": [
    "tesla.index = tesla['Date'] # tesla['Date'] 를 인덱스로 사용하겠다.\n",
    "print(tesla.index)"
   ]
  },
  {
   "cell_type": "code",
   "execution_count": 88,
   "metadata": {},
   "outputs": [
    {
     "name": "stdout",
     "output_type": "stream",
     "text": [
      "                 Date    Open     High       Low   Close\n",
      "Date                                                    \n",
      "2015-12-31 2015-12-31  238.51  243.450  238.3700  240.01\n",
      "2015-12-30 2015-12-30  236.60  243.634  235.6707  238.09\n",
      "2015-12-29 2015-12-29  230.06  237.720  229.5470  237.19\n",
      "2015-12-28 2015-12-28  231.49  231.980  225.5400  228.95\n",
      "2015-12-24 2015-12-24  230.56  231.880  228.2800  230.57\n"
     ]
    }
   ],
   "source": [
    "print(tesla['2015'].iloc[:5, :5]) # '2015'거 중에서 행,열 5개씩 가져와 "
   ]
  },
  {
   "cell_type": "code",
   "execution_count": 89,
   "metadata": {},
   "outputs": [
    {
     "name": "stdout",
     "output_type": "stream",
     "text": [
      "                 Date   Open     High    Low  Close\n",
      "Date                                               \n",
      "2010-06-30 2010-06-30  25.79  30.4192  23.30  23.83\n",
      "2010-06-29 2010-06-29  19.00  25.0000  17.54  23.89\n"
     ]
    }
   ],
   "source": [
    "print(tesla['2010-06'].iloc[:, :5])"
   ]
  },
  {
   "cell_type": "markdown",
   "metadata": {},
   "source": [
    "## 시간 간격을 인덱스로 설정하여 데이터 추출하기"
   ]
  },
  {
   "cell_type": "code",
   "execution_count": 90,
   "metadata": {},
   "outputs": [
    {
     "name": "stdout",
     "output_type": "stream",
     "text": [
      "                 Date    Open    High     Low   Close      Volume  ExDividend  \\\n",
      "Date                                                                            \n",
      "2018-03-27 2018-03-27  304.00  304.27  277.18  279.18  13696168.0         0.0   \n",
      "2018-03-26 2018-03-26  307.34  307.59  291.36  304.18   8324639.0         0.0   \n",
      "2018-03-23 2018-03-23  311.25  311.61  300.45  301.54   6600538.0         0.0   \n",
      "2018-03-22 2018-03-22  313.89  318.82  308.18  309.10   4914307.0         0.0   \n",
      "2018-03-21 2018-03-21  310.25  322.44  310.19  316.53   5927881.0         0.0   \n",
      "\n",
      "            SplitRatio  AdjOpen  AdjHigh  AdjLow  AdjClose   AdjVolume  \\\n",
      "Date                                                                     \n",
      "2018-03-27         1.0   304.00   304.27  277.18    279.18  13696168.0   \n",
      "2018-03-26         1.0   307.34   307.59  291.36    304.18   8324639.0   \n",
      "2018-03-23         1.0   311.25   311.61  300.45    301.54   6600538.0   \n",
      "2018-03-22         1.0   313.89   318.82  308.18    309.10   4914307.0   \n",
      "2018-03-21         1.0   310.25   322.44  310.19    316.53   5927881.0   \n",
      "\n",
      "            ref_date  \n",
      "Date                  \n",
      "2018-03-27 2828 days  \n",
      "2018-03-26 2827 days  \n",
      "2018-03-23 2824 days  \n",
      "2018-03-22 2823 days  \n",
      "2018-03-21 2822 days  \n"
     ]
    }
   ],
   "source": [
    "# Date열에서 Date의 최소값을 빼면 데이터를 수집한 이후에 얼마나 시간이 흘렀는지 알 수 있다\n",
    "\n",
    "tesla['ref_date'] = tesla['Date'] - tesla['Date'].min()\n",
    "\n",
    "print(tesla.head())"
   ]
  },
  {
   "cell_type": "code",
   "execution_count": 91,
   "metadata": {},
   "outputs": [
    {
     "name": "stdout",
     "output_type": "stream",
     "text": [
      "                Date    Open    High     Low   Close\n",
      "ref_date                                            \n",
      "2828 days 2018-03-27  304.00  304.27  277.18  279.18\n",
      "2827 days 2018-03-26  307.34  307.59  291.36  304.18\n",
      "2824 days 2018-03-23  311.25  311.61  300.45  301.54\n",
      "2823 days 2018-03-22  313.89  318.82  308.18  309.10\n",
      "2822 days 2018-03-21  310.25  322.44  310.19  316.53\n"
     ]
    }
   ],
   "source": [
    "# ref_date 열을 인덱스로 지정, 시간 간격(ref_date)을 이용하여 데이터 추출 \n",
    "\n",
    "tesla.index = tesla['ref_date']\n",
    "\n",
    "print(tesla.iloc[:5, :5])"
   ]
  },
  {
   "cell_type": "code",
   "execution_count": 92,
   "metadata": {},
   "outputs": [
    {
     "name": "stdout",
     "output_type": "stream",
     "text": [
      "               Date   Open     High    Low  Close\n",
      "ref_date                                         \n",
      "3 days   2010-07-02  23.00  23.1000  18.71  19.20\n",
      "2 days   2010-07-01  25.00  25.9200  20.27  21.96\n",
      "1 days   2010-06-30  25.79  30.4192  23.30  23.83\n",
      "0 days   2010-06-29  19.00  25.0000  17.54  23.89\n"
     ]
    }
   ],
   "source": [
    "# 데이터를 수집한 이후 최초 5일의 데이터 추출\n",
    "# 4 days는 데이터가 없어서 출력이 안됨 \n",
    "\n",
    "print(tesla['5 days':].iloc[:5, :5])"
   ]
  },
  {
   "cell_type": "markdown",
   "metadata": {},
   "source": [
    "## 시간 범위 생성하여 인덱스로 지정하기"
   ]
  },
  {
   "cell_type": "code",
   "execution_count": 93,
   "metadata": {},
   "outputs": [
    {
     "name": "stdout",
     "output_type": "stream",
     "text": [
      "        Date  Day  Cases_Guinea  Cases_Liberia  Cases_SierraLeone\n",
      "0 2015-01-05  289        2776.0            NaN            10030.0\n",
      "1 2015-01-04  288        2775.0            NaN             9780.0\n",
      "2 2015-01-03  287        2769.0         8166.0             9722.0\n",
      "3 2015-01-02  286           NaN         8157.0                NaN\n",
      "4 2014-12-31  284        2730.0         8115.0             9633.0\n"
     ]
    }
   ],
   "source": [
    "ebola = pd.read_csv('../data/country_timeseries.csv', parse_dates=[0]) \n",
    "print(ebola.iloc[:5, :5])"
   ]
  },
  {
   "cell_type": "code",
   "execution_count": 94,
   "metadata": {},
   "outputs": [
    {
     "name": "stdout",
     "output_type": "stream",
     "text": [
      "          Date  Day  Cases_Guinea  Cases_Liberia  Cases_SierraLeone\n",
      "117 2014-03-27    5         103.0            8.0                6.0\n",
      "118 2014-03-26    4          86.0            NaN                NaN\n",
      "119 2014-03-25    3          86.0            NaN                NaN\n",
      "120 2014-03-24    2          86.0            NaN                NaN\n",
      "121 2014-03-22    0          49.0            NaN                NaN\n"
     ]
    }
   ],
   "source": [
    "print(ebola.iloc[-5:, :5])"
   ]
  },
  {
   "cell_type": "code",
   "execution_count": 95,
   "metadata": {},
   "outputs": [
    {
     "name": "stdout",
     "output_type": "stream",
     "text": [
      "DatetimeIndex(['2014-12-31', '2015-01-01', '2015-01-02', '2015-01-03',\n",
      "               '2015-01-04', '2015-01-05'],\n",
      "              dtype='datetime64[ns]', freq='D')\n"
     ]
    }
   ],
   "source": [
    "#date_range 메서드를 이용하여 '2014-12-31'~'2015-01-05' 인덱스 생성\n",
    "\n",
    "head_range = pd.date_range(start='2014-12-31', end='2015-01-05') \n",
    "print(head_range)"
   ]
  },
  {
   "cell_type": "code",
   "execution_count": 96,
   "metadata": {},
   "outputs": [
    {
     "name": "stdout",
     "output_type": "stream",
     "text": [
      "                 Date  Day  Cases_Guinea  Cases_Liberia  Cases_SierraLeone\n",
      "Date                                                                      \n",
      "2015-01-05 2015-01-05  289        2776.0            NaN            10030.0\n",
      "2015-01-04 2015-01-04  288        2775.0            NaN             9780.0\n",
      "2015-01-03 2015-01-03  287        2769.0         8166.0             9722.0\n",
      "2015-01-02 2015-01-02  286           NaN         8157.0                NaN\n",
      "2014-12-31 2014-12-31  284        2730.0         8115.0             9633.0\n"
     ]
    }
   ],
   "source": [
    "# 원본데이터 손상을 방지하기 위해 df의 앞 5개 데이터만 추출 새로운 df 생성 \n",
    "ebola_5 = ebola.head()\n",
    "\n",
    "# Date열을 인덱스로 지정 \n",
    "ebola_5.index = ebola_5['Date']\n",
    "\n",
    "# 생성한 시간 범위(head_range를 인덱스로 지정 \n",
    "ebola_5.reindex(head_range)\n",
    "\n",
    "print(ebola_5.iloc[:5, :5])"
   ]
  },
  {
   "cell_type": "markdown",
   "metadata": {},
   "source": [
    "## 시간 범위의 주기 설정하기"
   ]
  },
  {
   "cell_type": "code",
   "execution_count": 97,
   "metadata": {},
   "outputs": [
    {
     "name": "stdout",
     "output_type": "stream",
     "text": [
      "DatetimeIndex(['2017-01-02', '2017-01-03', '2017-01-04', '2017-01-05',\n",
      "               '2017-01-06'],\n",
      "              dtype='datetime64[ns]', freq='B')\n"
     ]
    }
   ],
   "source": [
    "print(pd.date_range('2017-01-01', '2017-01-07', freq='B'))"
   ]
  },
  {
   "cell_type": "markdown",
   "metadata": {},
   "source": [
    "## 에볼라의 확산 속도 비교하기"
   ]
  },
  {
   "cell_type": "code",
   "execution_count": 98,
   "metadata": {},
   "outputs": [
    {
     "data": {
      "image/png": "[encoded data removed]",
      "text/plain": [
       "<Figure size 432x288 with 1 Axes>"
      ]
     },
     "metadata": {
      "needs_background": "light"
     },
     "output_type": "display_data"
    }
   ],
   "source": [
    "import matplotlib.pyplot as plt\n",
    "\n",
    "ebola.index = ebola['Date']\n",
    "\n",
    "fig, ax = plt.subplots() \n",
    "ax = ebola.iloc[0:, 1:].plot(ax=ax)\n",
    "ax.legend(fontsize=7, loc=2, borderaxespad=0.) \n",
    "plt.show()"
   ]
  },
  {
   "cell_type": "code",
   "execution_count": null,
   "metadata": {},
   "outputs": [],
   "source": []
  },
  {
   "cell_type": "code",
   "execution_count": null,
   "metadata": {},
   "outputs": [],
   "source": []
  }
 ],
 "metadata": {
  "kernelspec": {
   "display_name": "Python 3",
   "language": "python",
   "name": "python3"
  },
  "language_info": {
   "codemirror_mode": {
    "name": "ipython",
    "version": 3
   },
   "file_extension": ".py",
   "mimetype": "text/x-python",
   "name": "python",
   "nbconvert_exporter": "python",
   "pygments_lexer": "ipython3",
   "version": "3.7.4"
  }
 },
 "nbformat": 4,
 "nbformat_minor": 1
}
