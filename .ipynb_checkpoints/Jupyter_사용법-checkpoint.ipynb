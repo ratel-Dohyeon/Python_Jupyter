{
 "cells": [
  {
   "cell_type": "markdown",
   "metadata": {},
   "source": [
    "# 큰 제목을 씁니다.\n",
    "\n",
    "## 중간 제목\n",
    "\n",
    "### 작은 제목\n",
    "\n",
    "#### 더 작은 제목\n",
    "\n",
    "* 목록 작성\n",
    "* 안녕하세요\n",
    "    * 목록작성1\n",
    "    * 목록작성2\n",
    "\n"
   ]
  },
  {
   "cell_type": "markdown",
   "metadata": {},
   "source": [
    "* 안녕하세요 **안녕** 하세요 (굵은글씨)\n",
    "* 안녕하세요 *안녕* 하세요 (기울임)\n",
    "\n",
    "\n",
    "### 단축키\n",
    "* dd : 셀 삭제\n",
    "* a : 위로 셀 추가\n",
    "* b : 아래로 셀 추가\n"
   ]
  },
  {
   "cell_type": "code",
   "execution_count": 6,
   "metadata": {
    "scrolled": true
   },
   "outputs": [
    {
     "data": {
      "text/plain": [
       "968"
      ]
     },
     "execution_count": 6,
     "metadata": {},
     "output_type": "execute_result"
    }
   ],
   "source": [
    "11 * 88\n",
    "\n"
   ]
  },
  {
   "cell_type": "markdown",
   "metadata": {},
   "source": [
    "<div align=\"center\"><img src =\"C:/Users/master/Anaconda3/DataSciense/img/aaaa.png\" width=\"300\" height=\"300\"></div>\n",
    "<div align=\"center\">그림1. 레나 </div>"
   ]
  },
  {
   "cell_type": "markdown",
   "metadata": {},
   "source": [
    "<div align=\"center\"><img src =\"C:/Users/master/Anaconda3/DataSciense/img/aaaa.png\"></div>\n",
    "<div align=\"center\">그림1. 레나 </div>"
   ]
  },
  {
   "cell_type": "markdown",
   "metadata": {},
   "source": [
    "<div align=\"center\"><img src =\"../img/aaaa.png\" width=\"300\" height=\"300\"></div>\n",
    "<div align=\"center\">그림1. 레나 </div>"
   ]
  },
  {
   "cell_type": "code",
   "execution_count": null,
   "metadata": {},
   "outputs": [],
   "source": []
  },
  {
   "cell_type": "code",
   "execution_count": null,
   "metadata": {},
   "outputs": [],
   "source": []
  },
  {
   "cell_type": "code",
   "execution_count": null,
   "metadata": {},
   "outputs": [],
   "source": []
  },
  {
   "cell_type": "code",
   "execution_count": null,
   "metadata": {},
   "outputs": [],
   "source": []
  },
  {
   "cell_type": "code",
   "execution_count": null,
   "metadata": {},
   "outputs": [],
   "source": []
  },
  {
   "cell_type": "code",
   "execution_count": null,
   "metadata": {},
   "outputs": [],
   "source": []
  },
  {
   "cell_type": "code",
   "execution_count": null,
   "metadata": {},
   "outputs": [],
   "source": []
  },
  {
   "cell_type": "code",
   "execution_count": null,
   "metadata": {},
   "outputs": [],
   "source": []
  }
 ],
 "metadata": {
  "kernelspec": {
   "display_name": "Python 3",
   "language": "python",
   "name": "python3"
  },
  "language_info": {
   "codemirror_mode": {
    "name": "ipython",
    "version": 3
   },
   "file_extension": ".py",
   "mimetype": "text/x-python",
   "name": "python",
   "nbconvert_exporter": "python",
   "pygments_lexer": "ipython3",
   "version": "3.7.4"
  }
 },
 "nbformat": 4,
 "nbformat_minor": 2
}
