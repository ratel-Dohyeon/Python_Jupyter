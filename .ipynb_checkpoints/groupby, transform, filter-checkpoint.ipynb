{
 "cells": [
  {
   "cell_type": "code",
   "execution_count": 7,
   "metadata": {},
   "outputs": [
    {
     "data": {
      "text/html": [
       "<div>\n",
       "<style scoped>\n",
       "    .dataframe tbody tr th:only-of-type {\n",
       "        vertical-align: middle;\n",
       "    }\n",
       "\n",
       "    .dataframe tbody tr th {\n",
       "        vertical-align: top;\n",
       "    }\n",
       "\n",
       "    .dataframe thead th {\n",
       "        text-align: right;\n",
       "    }\n",
       "</style>\n",
       "<table border=\"1\" class=\"dataframe\">\n",
       "  <thead>\n",
       "    <tr style=\"text-align: right;\">\n",
       "      <th></th>\n",
       "      <th>country</th>\n",
       "      <th>continent</th>\n",
       "      <th>year</th>\n",
       "      <th>lifeExp</th>\n",
       "      <th>pop</th>\n",
       "      <th>gdpPercap</th>\n",
       "    </tr>\n",
       "  </thead>\n",
       "  <tbody>\n",
       "    <tr>\n",
       "      <td>0</td>\n",
       "      <td>Afghanistan</td>\n",
       "      <td>Asia</td>\n",
       "      <td>1952</td>\n",
       "      <td>28.801</td>\n",
       "      <td>8425333</td>\n",
       "      <td>779.445314</td>\n",
       "    </tr>\n",
       "    <tr>\n",
       "      <td>1</td>\n",
       "      <td>Afghanistan</td>\n",
       "      <td>Asia</td>\n",
       "      <td>1957</td>\n",
       "      <td>30.332</td>\n",
       "      <td>9240934</td>\n",
       "      <td>820.853030</td>\n",
       "    </tr>\n",
       "    <tr>\n",
       "      <td>2</td>\n",
       "      <td>Afghanistan</td>\n",
       "      <td>Asia</td>\n",
       "      <td>1962</td>\n",
       "      <td>31.997</td>\n",
       "      <td>10267083</td>\n",
       "      <td>853.100710</td>\n",
       "    </tr>\n",
       "    <tr>\n",
       "      <td>3</td>\n",
       "      <td>Afghanistan</td>\n",
       "      <td>Asia</td>\n",
       "      <td>1967</td>\n",
       "      <td>34.020</td>\n",
       "      <td>11537966</td>\n",
       "      <td>836.197138</td>\n",
       "    </tr>\n",
       "    <tr>\n",
       "      <td>4</td>\n",
       "      <td>Afghanistan</td>\n",
       "      <td>Asia</td>\n",
       "      <td>1972</td>\n",
       "      <td>36.088</td>\n",
       "      <td>13079460</td>\n",
       "      <td>739.981106</td>\n",
       "    </tr>\n",
       "    <tr>\n",
       "      <td>...</td>\n",
       "      <td>...</td>\n",
       "      <td>...</td>\n",
       "      <td>...</td>\n",
       "      <td>...</td>\n",
       "      <td>...</td>\n",
       "      <td>...</td>\n",
       "    </tr>\n",
       "    <tr>\n",
       "      <td>1699</td>\n",
       "      <td>Zimbabwe</td>\n",
       "      <td>Africa</td>\n",
       "      <td>1987</td>\n",
       "      <td>62.351</td>\n",
       "      <td>9216418</td>\n",
       "      <td>706.157306</td>\n",
       "    </tr>\n",
       "    <tr>\n",
       "      <td>1700</td>\n",
       "      <td>Zimbabwe</td>\n",
       "      <td>Africa</td>\n",
       "      <td>1992</td>\n",
       "      <td>60.377</td>\n",
       "      <td>10704340</td>\n",
       "      <td>693.420786</td>\n",
       "    </tr>\n",
       "    <tr>\n",
       "      <td>1701</td>\n",
       "      <td>Zimbabwe</td>\n",
       "      <td>Africa</td>\n",
       "      <td>1997</td>\n",
       "      <td>46.809</td>\n",
       "      <td>11404948</td>\n",
       "      <td>792.449960</td>\n",
       "    </tr>\n",
       "    <tr>\n",
       "      <td>1702</td>\n",
       "      <td>Zimbabwe</td>\n",
       "      <td>Africa</td>\n",
       "      <td>2002</td>\n",
       "      <td>39.989</td>\n",
       "      <td>11926563</td>\n",
       "      <td>672.038623</td>\n",
       "    </tr>\n",
       "    <tr>\n",
       "      <td>1703</td>\n",
       "      <td>Zimbabwe</td>\n",
       "      <td>Africa</td>\n",
       "      <td>2007</td>\n",
       "      <td>43.487</td>\n",
       "      <td>12311143</td>\n",
       "      <td>469.709298</td>\n",
       "    </tr>\n",
       "  </tbody>\n",
       "</table>\n",
       "<p>1704 rows × 6 columns</p>\n",
       "</div>"
      ],
      "text/plain": [
       "          country continent  year  lifeExp       pop   gdpPercap\n",
       "0     Afghanistan      Asia  1952   28.801   8425333  779.445314\n",
       "1     Afghanistan      Asia  1957   30.332   9240934  820.853030\n",
       "2     Afghanistan      Asia  1962   31.997  10267083  853.100710\n",
       "3     Afghanistan      Asia  1967   34.020  11537966  836.197138\n",
       "4     Afghanistan      Asia  1972   36.088  13079460  739.981106\n",
       "...           ...       ...   ...      ...       ...         ...\n",
       "1699     Zimbabwe    Africa  1987   62.351   9216418  706.157306\n",
       "1700     Zimbabwe    Africa  1992   60.377  10704340  693.420786\n",
       "1701     Zimbabwe    Africa  1997   46.809  11404948  792.449960\n",
       "1702     Zimbabwe    Africa  2002   39.989  11926563  672.038623\n",
       "1703     Zimbabwe    Africa  2007   43.487  12311143  469.709298\n",
       "\n",
       "[1704 rows x 6 columns]"
      ]
     },
     "execution_count": 7,
     "metadata": {},
     "output_type": "execute_result"
    }
   ],
   "source": [
    "import pandas as pd\n",
    "df = pd.read_csv('../data/gapminder.tsv', sep='\\t')\n",
    "df"
   ]
  },
  {
   "cell_type": "code",
   "execution_count": 8,
   "metadata": {},
   "outputs": [
    {
     "name": "stdout",
     "output_type": "stream",
     "text": [
      "year\n",
      "1952    49.057620\n",
      "1957    51.507401\n",
      "1962    53.609249\n",
      "1967    55.678290\n",
      "1972    57.647386\n",
      "1977    59.570157\n",
      "1982    61.533197\n",
      "1987    63.212613\n",
      "1992    64.160338\n",
      "1997    65.014676\n",
      "2002    65.694923\n",
      "2007    67.007423\n",
      "Name: lifeExp, dtype: float64\n"
     ]
    }
   ],
   "source": [
    "# groupby 사용 - year열 기준, lifeExp 열의 편균값을 구함\n",
    "avg_life_exp_by_year = df.groupby('year').lifeExp.mean()\n",
    "\n",
    "print(avg_life_exp_by_year)"
   ]
  },
  {
   "cell_type": "code",
   "execution_count": 9,
   "metadata": {},
   "outputs": [
    {
     "name": "stdout",
     "output_type": "stream",
     "text": [
      "[1952 1957 1962 1967 1972 1977 1982 1987 1992 1997 2002 2007]\n"
     ]
    }
   ],
   "source": [
    "# groupby 메서드에 열 이름을 전달하면 '분할' 작업이 일어남\n",
    "\n",
    "year = df.year.unique()\n",
    "print(year)"
   ]
  },
  {
   "cell_type": "code",
   "execution_count": 10,
   "metadata": {},
   "outputs": [
    {
     "name": "stdout",
     "output_type": "stream",
     "text": [
      "        country continent  year  lifeExp       pop    gdpPercap\n",
      "0   Afghanistan      Asia  1952   28.801   8425333   779.445314\n",
      "12      Albania    Europe  1952   55.230   1282697  1601.056136\n",
      "24      Algeria    Africa  1952   43.077   9279525  2449.008185\n",
      "36       Angola    Africa  1952   30.015   4232095  3520.610273\n",
      "48    Argentina  Americas  1952   62.485  17876956  5911.315053\n"
     ]
    }
   ],
   "source": [
    "# 연도별 데이터 추출 예, '반영-1'\n",
    "\n",
    "y1952 = df.loc[df.year == 1952, :]\n",
    "print(y1952.head())"
   ]
  },
  {
   "cell_type": "code",
   "execution_count": 11,
   "metadata": {},
   "outputs": [
    {
     "name": "stdout",
     "output_type": "stream",
     "text": [
      "49.05761971830987\n"
     ]
    }
   ],
   "source": [
    "# 추출한 데이터의 편균을 구함 '반영-2'\n",
    "\n",
    "y1952_mean = y1952.lifeExp.mean()\n",
    "print(y1952_mean)"
   ]
  },
  {
   "cell_type": "code",
   "execution_count": 12,
   "metadata": {},
   "outputs": [
    {
     "name": "stdout",
     "output_type": "stream",
     "text": [
      "49.05761971830987\n",
      "51.50740112676054\n",
      "53.60924901408449\n",
      "51.50740112676054\n"
     ]
    }
   ],
   "source": [
    "# 연도별 평균값을 구함 - '반영-3'\n",
    "\n",
    "y1952 = df.loc[df.year == 1952, :]\n",
    "y1952_mean = y1952.lifeExp.mean()\n",
    "print(y1952_mean)\n",
    "\n",
    "y1957 = df.loc[df.year == 1957, :]\n",
    "y1957_mean = y1957.lifeExp.mean()\n",
    "print(y1957_mean)\n",
    "\n",
    "y1962 = df.loc[df.year == 1962, :]\n",
    "y1962_mean = y1962.lifeExp.mean()\n",
    "print(y1962_mean)\n",
    "\n",
    "y2007 = df.loc[df.year == 2007, :]\n",
    "y2007_mean = y2007.lifeExp.mean()\n",
    "print(y1957_mean)\n",
    "\n"
   ]
  },
  {
   "cell_type": "code",
   "execution_count": 14,
   "metadata": {},
   "outputs": [
    {
     "data": {
      "text/html": [
       "<div>\n",
       "<style scoped>\n",
       "    .dataframe tbody tr th:only-of-type {\n",
       "        vertical-align: middle;\n",
       "    }\n",
       "\n",
       "    .dataframe tbody tr th {\n",
       "        vertical-align: top;\n",
       "    }\n",
       "\n",
       "    .dataframe thead th {\n",
       "        text-align: right;\n",
       "    }\n",
       "</style>\n",
       "<table border=\"1\" class=\"dataframe\">\n",
       "  <thead>\n",
       "    <tr style=\"text-align: right;\">\n",
       "      <th></th>\n",
       "      <th>year</th>\n",
       "      <th></th>\n",
       "    </tr>\n",
       "  </thead>\n",
       "  <tbody>\n",
       "    <tr>\n",
       "      <td>0</td>\n",
       "      <td>1952</td>\n",
       "      <td>49.057620</td>\n",
       "    </tr>\n",
       "    <tr>\n",
       "      <td>1</td>\n",
       "      <td>1957</td>\n",
       "      <td>51.507401</td>\n",
       "    </tr>\n",
       "    <tr>\n",
       "      <td>2</td>\n",
       "      <td>1962</td>\n",
       "      <td>53.609249</td>\n",
       "    </tr>\n",
       "    <tr>\n",
       "      <td>3</td>\n",
       "      <td>2007</td>\n",
       "      <td>51.507401</td>\n",
       "    </tr>\n",
       "  </tbody>\n",
       "</table>\n",
       "</div>"
      ],
      "text/plain": [
       "   year           \n",
       "0  1952  49.057620\n",
       "1  1957  51.507401\n",
       "2  1962  53.609249\n",
       "3  2007  51.507401"
      ]
     },
     "execution_count": 14,
     "metadata": {},
     "output_type": "execute_result"
    }
   ],
   "source": [
    "df2 = pd.DataFrame({'year':[1952,1957,1962,2007],\n",
    "                   '':[ y1952_mean,y1957_mean, y1962_mean,y1957_mean ]})\n",
    "df2"
   ]
  },
  {
   "cell_type": "markdown",
   "metadata": {},
   "source": [
    "# 평균값을 구하는 사용자 함수와 groupby 메서드"
   ]
  },
  {
   "cell_type": "code",
   "execution_count": 28,
   "metadata": {},
   "outputs": [],
   "source": [
    "def my_mean(values):\n",
    "    n = len(values)\n",
    "    #print('n -> %d' %n)\n",
    "    \n",
    "    sum = 0 # 그릇 준비 = sum\n",
    "    \n",
    "    for value in values: # value =  걍 이름 \n",
    "        #print('value -> %d' %value)\n",
    "        sum += value  # sum = sum + value\n",
    "        #print('sum -> %d' %sum)\n",
    "        \n",
    "    return sum / n\n",
    "\n"
   ]
  },
  {
   "cell_type": "code",
   "execution_count": 25,
   "metadata": {},
   "outputs": [
    {
     "name": "stdout",
     "output_type": "stream",
     "text": [
      "n -> 4\n",
      "value -> 1\n",
      "sum -> 1\n",
      "value -> 2\n",
      "sum -> 3\n",
      "value -> 4\n",
      "sum -> 7\n",
      "value -> 7\n",
      "sum -> 14\n"
     ]
    },
    {
     "data": {
      "text/plain": [
       "3.5"
      ]
     },
     "execution_count": 25,
     "metadata": {},
     "output_type": "execute_result"
    }
   ],
   "source": [
    "my_mean([1,2,4,7]) # 들어온 값의 평균을 구함\n"
   ]
  },
  {
   "cell_type": "code",
   "execution_count": 26,
   "metadata": {},
   "outputs": [
    {
     "name": "stdout",
     "output_type": "stream",
     "text": [
      "n -> 6\n",
      "value -> 1\n",
      "sum -> 1\n",
      "value -> 2\n",
      "sum -> 3\n",
      "value -> 4\n",
      "sum -> 7\n",
      "value -> 7\n",
      "sum -> 14\n",
      "value -> 8\n",
      "sum -> 22\n",
      "value -> 8\n",
      "sum -> 30\n"
     ]
    },
    {
     "data": {
      "text/plain": [
       "5.0"
      ]
     },
     "execution_count": 26,
     "metadata": {},
     "output_type": "execute_result"
    }
   ],
   "source": [
    "my_mean([1,2,4,7,8,8])"
   ]
  },
  {
   "cell_type": "code",
   "execution_count": 45,
   "metadata": {},
   "outputs": [
    {
     "name": "stdout",
     "output_type": "stream",
     "text": [
      "year\n",
      "1952    49.057620\n",
      "1957    51.507401\n",
      "1962    53.609249\n",
      "1967    55.678290\n",
      "1972    57.647386\n",
      "1977    59.570157\n",
      "1982    61.533197\n",
      "1987    63.212613\n",
      "1992    64.160338\n",
      "1997    65.014676\n",
      "2002    65.694923\n",
      "2007    67.007423\n",
      "Name: lifeExp, dtype: float64\n"
     ]
    }
   ],
   "source": [
    "# 사용자 정의 함수(my_mean)를 groupby 메서드와 조합하디 위해 agg 메서드 사용\n",
    "\n",
    "agg_my_mean1 = df.groupby('year').lifeExp.agg(my_mean)\n",
    "print(agg_my_mean1)"
   ]
  },
  {
   "cell_type": "markdown",
   "metadata": {},
   "source": [
    "# 두개의 인자값을 받아 처리하는 사용자 함수와 groupby 메서드"
   ]
  },
  {
   "cell_type": "code",
   "execution_count": 37,
   "metadata": {},
   "outputs": [],
   "source": [
    "# 첫번째 인자로 받은 열의 평균값을 구하여 두번째 인자로 받은 값과 차이를 계산하여 반환\n",
    "\n",
    "def my_mean_diff(values,diff_value):\n",
    "    n = len(values)\n",
    "    #print('n -> %d' %n)\n",
    "    \n",
    "    sum = 0 # 그릇 준비 = sum\n",
    "    \n",
    "    for value in values: # value =  걍 이름 \n",
    "        sum += value  # sum = sum + value\n",
    "    mean = sum / n\n",
    "        \n",
    "    return mean - diff_value\n",
    "\n",
    "    "
   ]
  },
  {
   "cell_type": "code",
   "execution_count": 35,
   "metadata": {},
   "outputs": [
    {
     "data": {
      "text/plain": [
       "-7.5"
      ]
     },
     "execution_count": 35,
     "metadata": {},
     "output_type": "execute_result"
    }
   ],
   "source": [
    "my_mean_diff([1,2,3,4], 10) # 입력이 2개라서 함수의 받는것도 2개"
   ]
  },
  {
   "cell_type": "code",
   "execution_count": 39,
   "metadata": {},
   "outputs": [
    {
     "name": "stdout",
     "output_type": "stream",
     "text": [
      "59.47443936619713\n"
     ]
    }
   ],
   "source": [
    "# 전체 평균 수명\n",
    "global_mean = df.lifeExp.mean()\n",
    "print(global_mean)"
   ]
  },
  {
   "cell_type": "code",
   "execution_count": 40,
   "metadata": {},
   "outputs": [
    {
     "name": "stdout",
     "output_type": "stream",
     "text": [
      "year\n",
      "1952   -10.416820\n",
      "1957    -7.967038\n",
      "1962    -5.865190\n",
      "1967    -3.796150\n",
      "1972    -1.827053\n",
      "1977     0.095718\n",
      "1982     2.058758\n",
      "1987     3.738173\n",
      "1992     4.685899\n",
      "1997     5.540237\n",
      "2002     6.220483\n",
      "2007     7.532983\n",
      "Name: lifeExp, dtype: float64\n"
     ]
    }
   ],
   "source": [
    "agg_mean_diff = df.groupby('year').lifeExp.agg(my_mean_diff, diff_value = global_mean)\n",
    "print(agg_mean_diff)"
   ]
  },
  {
   "cell_type": "markdown",
   "metadata": {},
   "source": [
    "## 문제. 위의 결과를 알아보기 쉽게 나타내보세요\n",
    " * year 연도별 평균 수명 | 전체 평균 수명 | 결과"
   ]
  },
  {
   "cell_type": "code",
   "execution_count": 46,
   "metadata": {},
   "outputs": [
    {
     "data": {
      "text/html": [
       "<div>\n",
       "<style scoped>\n",
       "    .dataframe tbody tr th:only-of-type {\n",
       "        vertical-align: middle;\n",
       "    }\n",
       "\n",
       "    .dataframe tbody tr th {\n",
       "        vertical-align: top;\n",
       "    }\n",
       "\n",
       "    .dataframe thead th {\n",
       "        text-align: right;\n",
       "    }\n",
       "</style>\n",
       "<table border=\"1\" class=\"dataframe\">\n",
       "  <thead>\n",
       "    <tr style=\"text-align: right;\">\n",
       "      <th></th>\n",
       "      <th>year</th>\n",
       "      <th>연도별 평균 수명</th>\n",
       "      <th>전체 평균 수명</th>\n",
       "      <th>결과</th>\n",
       "    </tr>\n",
       "  </thead>\n",
       "  <tbody>\n",
       "    <tr>\n",
       "      <td>0</td>\n",
       "      <td>1952</td>\n",
       "      <td>49.057620</td>\n",
       "      <td>59.474439</td>\n",
       "      <td>-10.416820</td>\n",
       "    </tr>\n",
       "    <tr>\n",
       "      <td>1</td>\n",
       "      <td>1957</td>\n",
       "      <td>51.507401</td>\n",
       "      <td>59.474439</td>\n",
       "      <td>-7.967038</td>\n",
       "    </tr>\n",
       "    <tr>\n",
       "      <td>2</td>\n",
       "      <td>1962</td>\n",
       "      <td>53.609249</td>\n",
       "      <td>59.474439</td>\n",
       "      <td>-5.865190</td>\n",
       "    </tr>\n",
       "    <tr>\n",
       "      <td>3</td>\n",
       "      <td>1967</td>\n",
       "      <td>55.678290</td>\n",
       "      <td>59.474439</td>\n",
       "      <td>-3.796150</td>\n",
       "    </tr>\n",
       "    <tr>\n",
       "      <td>4</td>\n",
       "      <td>1972</td>\n",
       "      <td>57.647386</td>\n",
       "      <td>59.474439</td>\n",
       "      <td>-1.827053</td>\n",
       "    </tr>\n",
       "    <tr>\n",
       "      <td>5</td>\n",
       "      <td>1977</td>\n",
       "      <td>59.570157</td>\n",
       "      <td>59.474439</td>\n",
       "      <td>0.095718</td>\n",
       "    </tr>\n",
       "    <tr>\n",
       "      <td>6</td>\n",
       "      <td>1982</td>\n",
       "      <td>61.533197</td>\n",
       "      <td>59.474439</td>\n",
       "      <td>2.058758</td>\n",
       "    </tr>\n",
       "    <tr>\n",
       "      <td>7</td>\n",
       "      <td>1987</td>\n",
       "      <td>63.212613</td>\n",
       "      <td>59.474439</td>\n",
       "      <td>3.738173</td>\n",
       "    </tr>\n",
       "    <tr>\n",
       "      <td>8</td>\n",
       "      <td>1992</td>\n",
       "      <td>64.160338</td>\n",
       "      <td>59.474439</td>\n",
       "      <td>4.685899</td>\n",
       "    </tr>\n",
       "    <tr>\n",
       "      <td>9</td>\n",
       "      <td>1997</td>\n",
       "      <td>65.014676</td>\n",
       "      <td>59.474439</td>\n",
       "      <td>5.540237</td>\n",
       "    </tr>\n",
       "    <tr>\n",
       "      <td>10</td>\n",
       "      <td>2002</td>\n",
       "      <td>65.694923</td>\n",
       "      <td>59.474439</td>\n",
       "      <td>6.220483</td>\n",
       "    </tr>\n",
       "    <tr>\n",
       "      <td>11</td>\n",
       "      <td>2007</td>\n",
       "      <td>67.007423</td>\n",
       "      <td>59.474439</td>\n",
       "      <td>7.532983</td>\n",
       "    </tr>\n",
       "  </tbody>\n",
       "</table>\n",
       "</div>"
      ],
      "text/plain": [
       "    year  연도별 평균 수명   전체 평균 수명         결과\n",
       "0   1952  49.057620  59.474439 -10.416820\n",
       "1   1957  51.507401  59.474439  -7.967038\n",
       "2   1962  53.609249  59.474439  -5.865190\n",
       "3   1967  55.678290  59.474439  -3.796150\n",
       "4   1972  57.647386  59.474439  -1.827053\n",
       "5   1977  59.570157  59.474439   0.095718\n",
       "6   1982  61.533197  59.474439   2.058758\n",
       "7   1987  63.212613  59.474439   3.738173\n",
       "8   1992  64.160338  59.474439   4.685899\n",
       "9   1997  65.014676  59.474439   5.540237\n",
       "10  2002  65.694923  59.474439   6.220483\n",
       "11  2007  67.007423  59.474439   7.532983"
      ]
     },
     "execution_count": 46,
     "metadata": {},
     "output_type": "execute_result"
    }
   ],
   "source": [
    "agg_mean_diff = df.groupby('year').lifeExp.agg(my_mean_diff, diff_value=global_mean) \n",
    "a = pd.DataFrame(agg_my_mean1)\n",
    "a['global_mean'] = 59.47443936619713\n",
    "b = pd.DataFrame(agg_mean_diff)\n",
    "result = pd.concat([a, b], axis = 1)\n",
    "result.columns =['연도별 평균 수명', '전체 평균 수명','결과']\n",
    "result = result.reset_index()\n",
    "result\n"
   ]
  },
  {
   "cell_type": "markdown",
   "metadata": {},
   "source": [
    "# 집계 메서드를 리스트, 딕셔너리에 담아 전달하기"
   ]
  },
  {
   "cell_type": "code",
   "execution_count": 47,
   "metadata": {},
   "outputs": [
    {
     "name": "stdout",
     "output_type": "stream",
     "text": [
      "      count_nonzero       mean        std\n",
      "year                                     \n",
      "1952          142.0  49.057620  12.225956\n",
      "1957          142.0  51.507401  12.231286\n",
      "1962          142.0  53.609249  12.097245\n",
      "1967          142.0  55.678290  11.718858\n",
      "1972          142.0  57.647386  11.381953\n",
      "1977          142.0  59.570157  11.227229\n",
      "1982          142.0  61.533197  10.770618\n",
      "1987          142.0  63.212613  10.556285\n",
      "1992          142.0  64.160338  11.227380\n",
      "1997          142.0  65.014676  11.559439\n",
      "2002          142.0  65.694923  12.279823\n",
      "2007          142.0  67.007423  12.073021\n"
     ]
    }
   ],
   "source": [
    "# 집계메서드를 리스트에 담아 전달하기\n",
    "# 연도별로 그룹화 한 lifeExp 열의 0이 아닌 값의 개수, 평균, 표준편차\n",
    "\n",
    "import numpy as np\n",
    "\n",
    "gdf = df.groupby('year').lifeExp.agg([np.count_nonzero, np.mean, np.std])\n",
    "print(gdf)"
   ]
  },
  {
   "cell_type": "code",
   "execution_count": 52,
   "metadata": {},
   "outputs": [
    {
     "name": "stdout",
     "output_type": "stream",
     "text": [
      "        lifeExp         pop    gdpPercap\n",
      "year                                    \n",
      "1952  49.057620   3943953.0  1968.528344\n",
      "1957  51.507401   4282942.0  2173.220291\n",
      "1962  53.609249   4686039.5  2335.439533\n",
      "1967  55.678290   5170175.5  2678.334741\n",
      "1972  57.647386   5877996.5  3339.129407\n",
      "1977  59.570157   6404036.5  3798.609244\n",
      "1982  61.533197   7007320.0  4216.228428\n",
      "1987  63.212613   7774861.5  4280.300366\n",
      "1992  64.160338   8688686.5  4386.085502\n",
      "1997  65.014676   9735063.5  4781.825478\n",
      "2002  65.694923  10372918.5  5319.804524\n",
      "2007  67.007423  10517531.0  6124.371109\n"
     ]
    }
   ],
   "source": [
    "# 집계 메서드를 딕셔너리에 담아 agg 메서드에 전달\n",
    "# 평균, 중강값(median)\n",
    "\n",
    "gdf_dict = df.groupby('year').agg({'lifeExp': 'mean',\n",
    "                                   'pop': 'median', \n",
    "                                   'gdpPercap':'median'})\n",
    "print(gdf_dict)"
   ]
  },
  {
   "cell_type": "markdown",
   "metadata": {},
   "source": [
    "# 표준 점수 계산하기"
   ]
  },
  {
   "cell_type": "code",
   "execution_count": 54,
   "metadata": {},
   "outputs": [],
   "source": [
    "# 통계 : 표준점수 = 데이터평균 - 표준편차\n",
    "# 표준점수 - 통계에서 데이터의 평균과 표준편차의 차이를 표준점수\n",
    "\n",
    "def my_zscore(x):\n",
    "    return (x - x.mean()) / x.std()"
   ]
  },
  {
   "cell_type": "code",
   "execution_count": 56,
   "metadata": {},
   "outputs": [
    {
     "name": "stdout",
     "output_type": "stream",
     "text": [
      "0   -1.656854\n",
      "1   -1.731249\n",
      "2   -1.786543\n",
      "3   -1.848157\n",
      "4   -1.894173\n",
      "Name: lifeExp, dtype: float64\n"
     ]
    }
   ],
   "source": [
    "# transform 데이터 변환 메서드\n",
    "# 데이터와 메서드를 일대일로 대응시켜 계산\n",
    "# 데이터의 양이 줄어들지 않는다 - 데이터 변환하는데 사용\n",
    "# 데이터 변환에만 사용 = transform\n",
    "\n",
    "transform_z = df.groupby('year').lifeExp.transform(my_zscore)\n",
    "print(transform_z.head())"
   ]
  },
  {
   "cell_type": "code",
   "execution_count": 57,
   "metadata": {},
   "outputs": [
    {
     "name": "stdout",
     "output_type": "stream",
     "text": [
      "(1704, 6)\n"
     ]
    }
   ],
   "source": [
    "# 데이터의 양이 줄어들디 않음을 확인\n",
    "print(df.shape)"
   ]
  },
  {
   "cell_type": "code",
   "execution_count": 58,
   "metadata": {},
   "outputs": [
    {
     "name": "stdout",
     "output_type": "stream",
     "text": [
      "(1704,)\n"
     ]
    }
   ],
   "source": [
    "# 데이터의 양이 줄어들디 않음을 확인(1704호 원본데이터와 동일)\n",
    "print(transform_z.shape)"
   ]
  },
  {
   "cell_type": "code",
   "execution_count": 60,
   "metadata": {},
   "outputs": [
    {
     "name": "stdout",
     "output_type": "stream",
     "text": [
      "       country continent  year  lifeExp      pop   gdpPercap\n",
      "0  Afghanistan      Asia  1952   28.801  8425333  779.445314\n",
      "1  Afghanistan      Asia  1957   30.332  9240934  820.853030\n",
      "\n",
      "-----------------------------------------------------\n",
      "year\n",
      "1952    49.057620\n",
      "1957    51.507401\n",
      "Name: lifeExp, dtype: float64\n",
      "\n",
      "-----------------------------------------------------\n",
      "year\n",
      "1952    12.225956\n",
      "1957    12.231286\n",
      "Name: lifeExp, dtype: float64\n",
      "\n",
      "-----------------------------------------------------\n"
     ]
    }
   ],
   "source": [
    "a = df.head(2)\n",
    "print(a)\n",
    "print('\\n-----------------------------------------------------')\n",
    "\n",
    "b = df.groupby('year').lifeExp.mean().head(2)\n",
    "print(b)\n",
    "print('\\n-----------------------------------------------------')\n",
    "\n",
    "c = df.groupby('year').lifeExp.std().head(2)\n",
    "print(c)\n",
    "print('\\n-----------------------------------------------------')\n",
    "\n"
   ]
  },
  {
   "cell_type": "markdown",
   "metadata": {},
   "source": [
    "# 누락값을 평균값으로 처리"
   ]
  },
  {
   "cell_type": "code",
   "execution_count": 61,
   "metadata": {},
   "outputs": [
    {
     "name": "stdout",
     "output_type": "stream",
     "text": [
      "     total_bill   tip     sex smoker   day    time  size\n",
      "24        19.82  3.18    Male     No   Sat  Dinner     2\n",
      "6          8.77  2.00    Male     No   Sun  Dinner     2\n",
      "153         NaN  2.00    Male     No   Sun  Dinner     4\n",
      "211         NaN  5.16    Male    Yes   Sat  Dinner     4\n",
      "198         NaN  2.00  Female    Yes  Thur   Lunch     2\n",
      "176         NaN  2.00    Male    Yes   Sun  Dinner     2\n",
      "192       28.44  2.56    Male    Yes  Thur   Lunch     2\n",
      "124       12.48  2.52  Female     No  Thur   Lunch     2\n",
      "9         14.78  3.23    Male     No   Sun  Dinner     2\n",
      "101       15.38  3.00  Female    Yes   Fri  Dinner     2\n"
     ]
    }
   ],
   "source": [
    "import seaborn as sns\n",
    "import numpy as np\n",
    "\n",
    "# sample()을 활용한 무작위 샘플 데이터 만들기\n",
    "# 무작위 표본추출하는데'np.random.permutation' 함수를 사용해 순열을 무작위로 석은 후에 n개만큼 indexing해 오는 방법을 사용\n",
    "\n",
    "# total_bill 열의 값 4개를임의로 선택해 누락갑ㄱ으로 바꿈 \n",
    "\n",
    "np.random.seed(42)\n",
    "tips_10 = sns.load_dataset('tips').sample(10)\n",
    "tips_10.loc[np.random.permutation(tips_10.index)[:4], 'total_bill'] = np.NaN\n",
    "\n",
    "print(tips_10)"
   ]
  },
  {
   "cell_type": "code",
   "execution_count": 62,
   "metadata": {},
   "outputs": [
    {
     "name": "stdout",
     "output_type": "stream",
     "text": [
      "        total_bill  tip  smoker  day  time  size\n",
      "sex                                             \n",
      "Male             4    7       7    7     7     7\n",
      "Female           2    3       3    3     3     3\n"
     ]
    }
   ],
   "source": [
    "# total_bill 4개 누락값이므로 6개만 나옴, 다른 값은 다 10개 나옴 \n",
    "# 누락값 - 여성1명, 남성3명\n",
    "\n",
    "count_sex = tips_10.groupby('sex').count()\n",
    "print(count_sex)"
   ]
  },
  {
   "cell_type": "code",
   "execution_count": 63,
   "metadata": {},
   "outputs": [],
   "source": [
    "def fill_na_mean(x):\n",
    "    avg = x.mean()\n",
    "    return x.fillna(avg)"
   ]
  },
  {
   "cell_type": "code",
   "execution_count": 65,
   "metadata": {},
   "outputs": [
    {
     "name": "stdout",
     "output_type": "stream",
     "text": [
      "     total_bill   tip     sex smoker   day    time  size  fill_total_bill\n",
      "24        19.82  3.18    Male     No   Sat  Dinner     2          19.8200\n",
      "6          8.77  2.00    Male     No   Sun  Dinner     2           8.7700\n",
      "153         NaN  2.00    Male     No   Sun  Dinner     4          17.9525\n",
      "211         NaN  5.16    Male    Yes   Sat  Dinner     4          17.9525\n",
      "198         NaN  2.00  Female    Yes  Thur   Lunch     2          13.9300\n",
      "176         NaN  2.00    Male    Yes   Sun  Dinner     2          17.9525\n",
      "192       28.44  2.56    Male    Yes  Thur   Lunch     2          28.4400\n",
      "124       12.48  2.52  Female     No  Thur   Lunch     2          12.4800\n",
      "9         14.78  3.23    Male     No   Sun  Dinner     2          14.7800\n",
      "101       15.38  3.00  Female    Yes   Fri  Dinner     2          15.3800\n"
     ]
    }
   ],
   "source": [
    "# 성별을 구분하여 total_bill 열의 평균을구하는 함수를 적용\n",
    "# tips_10에 새로운 열 (fill_total_bill)\n",
    "# 남성과 여성의 누락값을 고려하여 계산한 평균값으로 채움\n",
    "\n",
    "total_bill_group_mean = tips_10.groupby('sex').total_bill.transform(fill_na_mean)\n",
    "tips_10['fill_total_bill'] = total_bill_group_mean\n",
    "print(tips_10)"
   ]
  },
  {
   "cell_type": "markdown",
   "metadata": {},
   "source": [
    "# 데이터 필터링 사용하기 - filter 메서드"
   ]
  },
  {
   "cell_type": "code",
   "execution_count": 66,
   "metadata": {},
   "outputs": [
    {
     "name": "stdout",
     "output_type": "stream",
     "text": [
      "(244, 7)\n"
     ]
    }
   ],
   "source": [
    "import seaborn as sns\n",
    "\n",
    "tips = sns.load_dataset('tips')\n",
    "print(tips.shape)"
   ]
  },
  {
   "cell_type": "code",
   "execution_count": 67,
   "metadata": {},
   "outputs": [
    {
     "name": "stdout",
     "output_type": "stream",
     "text": [
      "2    156\n",
      "3     38\n",
      "4     37\n",
      "5      5\n",
      "6      4\n",
      "1      4\n",
      "Name: size, dtype: int64\n"
     ]
    }
   ],
   "source": [
    "# size 열의 데이터 수를 확인\n",
    "# 5,6,1 테이블의 주문이 매우 적다\n",
    "\n",
    "print(tips['size'].value_counts())\n"
   ]
  },
  {
   "cell_type": "code",
   "execution_count": 69,
   "metadata": {},
   "outputs": [],
   "source": [
    "# 주문이 30번 이상 있는 테이블만 필터링\n",
    "# lambda = \n",
    "\n",
    "tips_filtered = tips.groupby('size').filter(lambda x: x['size'].count() >= 30)"
   ]
  },
  {
   "cell_type": "code",
   "execution_count": 70,
   "metadata": {
    "collapsed": true
   },
   "outputs": [
    {
     "data": {
      "text/html": [
       "<div>\n",
       "<style scoped>\n",
       "    .dataframe tbody tr th:only-of-type {\n",
       "        vertical-align: middle;\n",
       "    }\n",
       "\n",
       "    .dataframe tbody tr th {\n",
       "        vertical-align: top;\n",
       "    }\n",
       "\n",
       "    .dataframe thead th {\n",
       "        text-align: right;\n",
       "    }\n",
       "</style>\n",
       "<table border=\"1\" class=\"dataframe\">\n",
       "  <thead>\n",
       "    <tr style=\"text-align: right;\">\n",
       "      <th></th>\n",
       "      <th>total_bill</th>\n",
       "      <th>tip</th>\n",
       "      <th>sex</th>\n",
       "      <th>smoker</th>\n",
       "      <th>day</th>\n",
       "      <th>time</th>\n",
       "      <th>size</th>\n",
       "    </tr>\n",
       "  </thead>\n",
       "  <tbody>\n",
       "    <tr>\n",
       "      <td>212</td>\n",
       "      <td>48.33</td>\n",
       "      <td>9.00</td>\n",
       "      <td>Male</td>\n",
       "      <td>No</td>\n",
       "      <td>Sat</td>\n",
       "      <td>Dinner</td>\n",
       "      <td>4</td>\n",
       "    </tr>\n",
       "    <tr>\n",
       "      <td>213</td>\n",
       "      <td>13.27</td>\n",
       "      <td>2.50</td>\n",
       "      <td>Female</td>\n",
       "      <td>Yes</td>\n",
       "      <td>Sat</td>\n",
       "      <td>Dinner</td>\n",
       "      <td>2</td>\n",
       "    </tr>\n",
       "    <tr>\n",
       "      <td>214</td>\n",
       "      <td>28.17</td>\n",
       "      <td>6.50</td>\n",
       "      <td>Female</td>\n",
       "      <td>Yes</td>\n",
       "      <td>Sat</td>\n",
       "      <td>Dinner</td>\n",
       "      <td>3</td>\n",
       "    </tr>\n",
       "    <tr>\n",
       "      <td>215</td>\n",
       "      <td>12.90</td>\n",
       "      <td>1.10</td>\n",
       "      <td>Female</td>\n",
       "      <td>Yes</td>\n",
       "      <td>Sat</td>\n",
       "      <td>Dinner</td>\n",
       "      <td>2</td>\n",
       "    </tr>\n",
       "    <tr>\n",
       "      <td>217</td>\n",
       "      <td>11.59</td>\n",
       "      <td>1.50</td>\n",
       "      <td>Male</td>\n",
       "      <td>Yes</td>\n",
       "      <td>Sat</td>\n",
       "      <td>Dinner</td>\n",
       "      <td>2</td>\n",
       "    </tr>\n",
       "    <tr>\n",
       "      <td>218</td>\n",
       "      <td>7.74</td>\n",
       "      <td>1.44</td>\n",
       "      <td>Male</td>\n",
       "      <td>Yes</td>\n",
       "      <td>Sat</td>\n",
       "      <td>Dinner</td>\n",
       "      <td>2</td>\n",
       "    </tr>\n",
       "    <tr>\n",
       "      <td>219</td>\n",
       "      <td>30.14</td>\n",
       "      <td>3.09</td>\n",
       "      <td>Female</td>\n",
       "      <td>Yes</td>\n",
       "      <td>Sat</td>\n",
       "      <td>Dinner</td>\n",
       "      <td>4</td>\n",
       "    </tr>\n",
       "    <tr>\n",
       "      <td>220</td>\n",
       "      <td>12.16</td>\n",
       "      <td>2.20</td>\n",
       "      <td>Male</td>\n",
       "      <td>Yes</td>\n",
       "      <td>Fri</td>\n",
       "      <td>Lunch</td>\n",
       "      <td>2</td>\n",
       "    </tr>\n",
       "    <tr>\n",
       "      <td>221</td>\n",
       "      <td>13.42</td>\n",
       "      <td>3.48</td>\n",
       "      <td>Female</td>\n",
       "      <td>Yes</td>\n",
       "      <td>Fri</td>\n",
       "      <td>Lunch</td>\n",
       "      <td>2</td>\n",
       "    </tr>\n",
       "    <tr>\n",
       "      <td>223</td>\n",
       "      <td>15.98</td>\n",
       "      <td>3.00</td>\n",
       "      <td>Female</td>\n",
       "      <td>No</td>\n",
       "      <td>Fri</td>\n",
       "      <td>Lunch</td>\n",
       "      <td>3</td>\n",
       "    </tr>\n",
       "    <tr>\n",
       "      <td>224</td>\n",
       "      <td>13.42</td>\n",
       "      <td>1.58</td>\n",
       "      <td>Male</td>\n",
       "      <td>Yes</td>\n",
       "      <td>Fri</td>\n",
       "      <td>Lunch</td>\n",
       "      <td>2</td>\n",
       "    </tr>\n",
       "    <tr>\n",
       "      <td>225</td>\n",
       "      <td>16.27</td>\n",
       "      <td>2.50</td>\n",
       "      <td>Female</td>\n",
       "      <td>Yes</td>\n",
       "      <td>Fri</td>\n",
       "      <td>Lunch</td>\n",
       "      <td>2</td>\n",
       "    </tr>\n",
       "    <tr>\n",
       "      <td>226</td>\n",
       "      <td>10.09</td>\n",
       "      <td>2.00</td>\n",
       "      <td>Female</td>\n",
       "      <td>Yes</td>\n",
       "      <td>Fri</td>\n",
       "      <td>Lunch</td>\n",
       "      <td>2</td>\n",
       "    </tr>\n",
       "    <tr>\n",
       "      <td>227</td>\n",
       "      <td>20.45</td>\n",
       "      <td>3.00</td>\n",
       "      <td>Male</td>\n",
       "      <td>No</td>\n",
       "      <td>Sat</td>\n",
       "      <td>Dinner</td>\n",
       "      <td>4</td>\n",
       "    </tr>\n",
       "    <tr>\n",
       "      <td>228</td>\n",
       "      <td>13.28</td>\n",
       "      <td>2.72</td>\n",
       "      <td>Male</td>\n",
       "      <td>No</td>\n",
       "      <td>Sat</td>\n",
       "      <td>Dinner</td>\n",
       "      <td>2</td>\n",
       "    </tr>\n",
       "    <tr>\n",
       "      <td>229</td>\n",
       "      <td>22.12</td>\n",
       "      <td>2.88</td>\n",
       "      <td>Female</td>\n",
       "      <td>Yes</td>\n",
       "      <td>Sat</td>\n",
       "      <td>Dinner</td>\n",
       "      <td>2</td>\n",
       "    </tr>\n",
       "    <tr>\n",
       "      <td>230</td>\n",
       "      <td>24.01</td>\n",
       "      <td>2.00</td>\n",
       "      <td>Male</td>\n",
       "      <td>Yes</td>\n",
       "      <td>Sat</td>\n",
       "      <td>Dinner</td>\n",
       "      <td>4</td>\n",
       "    </tr>\n",
       "    <tr>\n",
       "      <td>231</td>\n",
       "      <td>15.69</td>\n",
       "      <td>3.00</td>\n",
       "      <td>Male</td>\n",
       "      <td>Yes</td>\n",
       "      <td>Sat</td>\n",
       "      <td>Dinner</td>\n",
       "      <td>3</td>\n",
       "    </tr>\n",
       "    <tr>\n",
       "      <td>232</td>\n",
       "      <td>11.61</td>\n",
       "      <td>3.39</td>\n",
       "      <td>Male</td>\n",
       "      <td>No</td>\n",
       "      <td>Sat</td>\n",
       "      <td>Dinner</td>\n",
       "      <td>2</td>\n",
       "    </tr>\n",
       "    <tr>\n",
       "      <td>233</td>\n",
       "      <td>10.77</td>\n",
       "      <td>1.47</td>\n",
       "      <td>Male</td>\n",
       "      <td>No</td>\n",
       "      <td>Sat</td>\n",
       "      <td>Dinner</td>\n",
       "      <td>2</td>\n",
       "    </tr>\n",
       "    <tr>\n",
       "      <td>234</td>\n",
       "      <td>15.53</td>\n",
       "      <td>3.00</td>\n",
       "      <td>Male</td>\n",
       "      <td>Yes</td>\n",
       "      <td>Sat</td>\n",
       "      <td>Dinner</td>\n",
       "      <td>2</td>\n",
       "    </tr>\n",
       "    <tr>\n",
       "      <td>235</td>\n",
       "      <td>10.07</td>\n",
       "      <td>1.25</td>\n",
       "      <td>Male</td>\n",
       "      <td>No</td>\n",
       "      <td>Sat</td>\n",
       "      <td>Dinner</td>\n",
       "      <td>2</td>\n",
       "    </tr>\n",
       "    <tr>\n",
       "      <td>236</td>\n",
       "      <td>12.60</td>\n",
       "      <td>1.00</td>\n",
       "      <td>Male</td>\n",
       "      <td>Yes</td>\n",
       "      <td>Sat</td>\n",
       "      <td>Dinner</td>\n",
       "      <td>2</td>\n",
       "    </tr>\n",
       "    <tr>\n",
       "      <td>237</td>\n",
       "      <td>32.83</td>\n",
       "      <td>1.17</td>\n",
       "      <td>Male</td>\n",
       "      <td>Yes</td>\n",
       "      <td>Sat</td>\n",
       "      <td>Dinner</td>\n",
       "      <td>2</td>\n",
       "    </tr>\n",
       "    <tr>\n",
       "      <td>238</td>\n",
       "      <td>35.83</td>\n",
       "      <td>4.67</td>\n",
       "      <td>Female</td>\n",
       "      <td>No</td>\n",
       "      <td>Sat</td>\n",
       "      <td>Dinner</td>\n",
       "      <td>3</td>\n",
       "    </tr>\n",
       "    <tr>\n",
       "      <td>239</td>\n",
       "      <td>29.03</td>\n",
       "      <td>5.92</td>\n",
       "      <td>Male</td>\n",
       "      <td>No</td>\n",
       "      <td>Sat</td>\n",
       "      <td>Dinner</td>\n",
       "      <td>3</td>\n",
       "    </tr>\n",
       "    <tr>\n",
       "      <td>240</td>\n",
       "      <td>27.18</td>\n",
       "      <td>2.00</td>\n",
       "      <td>Female</td>\n",
       "      <td>Yes</td>\n",
       "      <td>Sat</td>\n",
       "      <td>Dinner</td>\n",
       "      <td>2</td>\n",
       "    </tr>\n",
       "    <tr>\n",
       "      <td>241</td>\n",
       "      <td>22.67</td>\n",
       "      <td>2.00</td>\n",
       "      <td>Male</td>\n",
       "      <td>Yes</td>\n",
       "      <td>Sat</td>\n",
       "      <td>Dinner</td>\n",
       "      <td>2</td>\n",
       "    </tr>\n",
       "    <tr>\n",
       "      <td>242</td>\n",
       "      <td>17.82</td>\n",
       "      <td>1.75</td>\n",
       "      <td>Male</td>\n",
       "      <td>No</td>\n",
       "      <td>Sat</td>\n",
       "      <td>Dinner</td>\n",
       "      <td>2</td>\n",
       "    </tr>\n",
       "    <tr>\n",
       "      <td>243</td>\n",
       "      <td>18.78</td>\n",
       "      <td>3.00</td>\n",
       "      <td>Female</td>\n",
       "      <td>No</td>\n",
       "      <td>Thur</td>\n",
       "      <td>Dinner</td>\n",
       "      <td>2</td>\n",
       "    </tr>\n",
       "  </tbody>\n",
       "</table>\n",
       "</div>"
      ],
      "text/plain": [
       "     total_bill   tip     sex smoker   day    time  size\n",
       "212       48.33  9.00    Male     No   Sat  Dinner     4\n",
       "213       13.27  2.50  Female    Yes   Sat  Dinner     2\n",
       "214       28.17  6.50  Female    Yes   Sat  Dinner     3\n",
       "215       12.90  1.10  Female    Yes   Sat  Dinner     2\n",
       "217       11.59  1.50    Male    Yes   Sat  Dinner     2\n",
       "218        7.74  1.44    Male    Yes   Sat  Dinner     2\n",
       "219       30.14  3.09  Female    Yes   Sat  Dinner     4\n",
       "220       12.16  2.20    Male    Yes   Fri   Lunch     2\n",
       "221       13.42  3.48  Female    Yes   Fri   Lunch     2\n",
       "223       15.98  3.00  Female     No   Fri   Lunch     3\n",
       "224       13.42  1.58    Male    Yes   Fri   Lunch     2\n",
       "225       16.27  2.50  Female    Yes   Fri   Lunch     2\n",
       "226       10.09  2.00  Female    Yes   Fri   Lunch     2\n",
       "227       20.45  3.00    Male     No   Sat  Dinner     4\n",
       "228       13.28  2.72    Male     No   Sat  Dinner     2\n",
       "229       22.12  2.88  Female    Yes   Sat  Dinner     2\n",
       "230       24.01  2.00    Male    Yes   Sat  Dinner     4\n",
       "231       15.69  3.00    Male    Yes   Sat  Dinner     3\n",
       "232       11.61  3.39    Male     No   Sat  Dinner     2\n",
       "233       10.77  1.47    Male     No   Sat  Dinner     2\n",
       "234       15.53  3.00    Male    Yes   Sat  Dinner     2\n",
       "235       10.07  1.25    Male     No   Sat  Dinner     2\n",
       "236       12.60  1.00    Male    Yes   Sat  Dinner     2\n",
       "237       32.83  1.17    Male    Yes   Sat  Dinner     2\n",
       "238       35.83  4.67  Female     No   Sat  Dinner     3\n",
       "239       29.03  5.92    Male     No   Sat  Dinner     3\n",
       "240       27.18  2.00  Female    Yes   Sat  Dinner     2\n",
       "241       22.67  2.00    Male    Yes   Sat  Dinner     2\n",
       "242       17.82  1.75    Male     No   Sat  Dinner     2\n",
       "243       18.78  3.00  Female     No  Thur  Dinner     2"
      ]
     },
     "execution_count": 70,
     "metadata": {},
     "output_type": "execute_result"
    }
   ],
   "source": [
    "# 222-1, 216-5 주문이 적은 1,5번 테이블을 제외하고 가져옴 \n",
    "\n",
    "tips_filtered.tail(30)"
   ]
  },
  {
   "cell_type": "code",
   "execution_count": 71,
   "metadata": {},
   "outputs": [
    {
     "name": "stdout",
     "output_type": "stream",
     "text": [
      "2    156\n",
      "3     38\n",
      "4     37\n",
      "Name: size, dtype: int64\n"
     ]
    }
   ],
   "source": [
    "print(tips_filtered['size'].value_counts())"
   ]
  },
  {
   "cell_type": "code",
   "execution_count": 75,
   "metadata": {},
   "outputs": [
    {
     "data": {
      "text/plain": [
       "5"
      ]
     },
     "execution_count": 75,
     "metadata": {},
     "output_type": "execute_result"
    }
   ],
   "source": [
    "f = lambda x: x+1 # lambda = 인자 : 표현식 \n",
    "f(4)"
   ]
  },
  {
   "cell_type": "code",
   "execution_count": 79,
   "metadata": {},
   "outputs": [
    {
     "ename": "SyntaxError",
     "evalue": "invalid syntax (<ipython-input-79-5aa5c1328297>, line 1)",
     "output_type": "error",
     "traceback": [
      "\u001b[1;36m  File \u001b[1;32m\"<ipython-input-79-5aa5c1328297>\"\u001b[1;36m, line \u001b[1;32m1\u001b[0m\n\u001b[1;33m    def hap(x, y)\u001b[0m\n\u001b[1;37m                 ^\u001b[0m\n\u001b[1;31mSyntaxError\u001b[0m\u001b[1;31m:\u001b[0m invalid syntax\n"
     ]
    }
   ],
   "source": [
    "def hap(x, y)\n",
    "    return x + y # 위의 lambda 와 같은 함수 "
   ]
  },
  {
   "cell_type": "markdown",
   "metadata": {},
   "source": [
    "# 그룹 오브젝트 저장하여 살펴보기 "
   ]
  },
  {
   "cell_type": "code",
   "execution_count": 80,
   "metadata": {},
   "outputs": [
    {
     "name": "stdout",
     "output_type": "stream",
     "text": [
      "     total_bill   tip     sex smoker   day    time  size\n",
      "24        19.82  3.18    Male     No   Sat  Dinner     2\n",
      "6          8.77  2.00    Male     No   Sun  Dinner     2\n",
      "153       24.55  2.00    Male     No   Sun  Dinner     4\n",
      "211       25.89  5.16    Male    Yes   Sat  Dinner     4\n",
      "198       13.00  2.00  Female    Yes  Thur   Lunch     2\n",
      "176       17.89  2.00    Male    Yes   Sun  Dinner     2\n",
      "192       28.44  2.56    Male    Yes  Thur   Lunch     2\n",
      "124       12.48  2.52  Female     No  Thur   Lunch     2\n",
      "9         14.78  3.23    Male     No   Sun  Dinner     2\n",
      "101       15.38  3.00  Female    Yes   Fri  Dinner     2\n"
     ]
    }
   ],
   "source": [
    "tips_10 = sns.load_dataset('tips').sample(10, random_state=42)\n",
    "print(tips_10)"
   ]
  },
  {
   "cell_type": "code",
   "execution_count": 83,
   "metadata": {},
   "outputs": [
    {
     "name": "stdout",
     "output_type": "stream",
     "text": [
      "<pandas.core.groupby.generic.DataFrameGroupBy object at 0x00000146DB8C6E88>\n"
     ]
    }
   ],
   "source": [
    "#자료형이 그룹 오브젝트임을 확인\n",
    "\n",
    "grouped = tips_10.groupby('sex')\n",
    "print(grouped)"
   ]
  },
  {
   "cell_type": "code",
   "execution_count": 87,
   "metadata": {},
   "outputs": [
    {
     "name": "stdout",
     "output_type": "stream",
     "text": [
      "{'Male': Int64Index([24, 6, 153, 211, 176, 192, 9], dtype='int64'), 'Female': Int64Index([198, 124, 101], dtype='int64')}\n"
     ]
    }
   ],
   "source": [
    "# 그룹 오브젝트에 포함된 그룹을 보려면 groups 속성을 출력\n",
    "print(grouped.groups)"
   ]
  },
  {
   "cell_type": "markdown",
   "metadata": {},
   "source": [
    "# 그룹 오브젝트의 평균 구하기"
   ]
  },
  {
   "cell_type": "code",
   "execution_count": 90,
   "metadata": {},
   "outputs": [
    {
     "name": "stdout",
     "output_type": "stream",
     "text": [
      "        total_bill       tip      size\n",
      "sex                                   \n",
      "Male         20.02  2.875714  2.571429\n",
      "Female       13.62  2.506667  2.000000\n"
     ]
    }
   ],
   "source": [
    "# 그룹 오브젝트를 이용하여 평균을 구함\n",
    "# smoker, day, time 열은 그룹 연산에서 제외됨\n",
    "# 파이썬은 그룹 연산에 적합한 열을 알아서 골라줌 \n",
    "\n",
    "avgs = grouped.mean()\n",
    "\n",
    "print(avgs)"
   ]
  },
  {
   "cell_type": "code",
   "execution_count": 91,
   "metadata": {},
   "outputs": [
    {
     "name": "stdout",
     "output_type": "stream",
     "text": [
      "Index(['total_bill', 'tip', 'sex', 'smoker', 'day', 'time', 'size'], dtype='object')\n"
     ]
    }
   ],
   "source": [
    "print(tips_10.columns)"
   ]
  },
  {
   "cell_type": "markdown",
   "metadata": {},
   "source": [
    "# 그룹 오브젝트에서 데이터 추출하고 반복하기"
   ]
  },
  {
   "cell_type": "code",
   "execution_count": 92,
   "metadata": {},
   "outputs": [
    {
     "name": "stdout",
     "output_type": "stream",
     "text": [
      "     total_bill   tip     sex smoker   day    time  size\n",
      "198       13.00  2.00  Female    Yes  Thur   Lunch     2\n",
      "124       12.48  2.52  Female     No  Thur   Lunch     2\n",
      "101       15.38  3.00  Female    Yes   Fri  Dinner     2\n"
     ]
    }
   ],
   "source": [
    "female = grouped.get_group('Female')\n",
    "print(female)"
   ]
  },
  {
   "cell_type": "markdown",
   "metadata": {},
   "source": [
    "# 그룹 오브젝트 계산하고 살펴보기"
   ]
  },
  {
   "cell_type": "code",
   "execution_count": 93,
   "metadata": {},
   "outputs": [
    {
     "name": "stdout",
     "output_type": "stream",
     "text": [
      "               total_bill       tip      size\n",
      "sex    time                                  \n",
      "Male   Lunch    28.440000  2.560000  2.000000\n",
      "       Dinner   18.616667  2.928333  2.666667\n",
      "Female Lunch    12.740000  2.260000  2.000000\n",
      "       Dinner   15.380000  3.000000  2.000000\n"
     ]
    }
   ],
   "source": [
    "bill_sex_time = tips_10.groupby(['sex', 'time'])\n",
    "group_avg = bill_sex_time.mean()\n",
    "\n",
    "print(group_avg)"
   ]
  },
  {
   "cell_type": "code",
   "execution_count": 94,
   "metadata": {},
   "outputs": [
    {
     "name": "stdout",
     "output_type": "stream",
     "text": [
      "<class 'pandas.core.frame.DataFrame'>\n"
     ]
    }
   ],
   "source": [
    "print(type(group_avg))"
   ]
  },
  {
   "cell_type": "code",
   "execution_count": 95,
   "metadata": {},
   "outputs": [
    {
     "name": "stdout",
     "output_type": "stream",
     "text": [
      "               total_bill       tip      size\n",
      "sex    time                                  \n",
      "Male   Lunch    28.440000  2.560000  2.000000\n",
      "       Dinner   18.616667  2.928333  2.666667\n",
      "Female Lunch    12.740000  2.260000  2.000000\n",
      "       Dinner   15.380000  3.000000  2.000000\n"
     ]
    }
   ],
   "source": [
    "print(group_avg)"
   ]
  },
  {
   "cell_type": "code",
   "execution_count": 96,
   "metadata": {},
   "outputs": [
    {
     "name": "stdout",
     "output_type": "stream",
     "text": [
      "Index(['total_bill', 'tip', 'size'], dtype='object')\n"
     ]
    }
   ],
   "source": [
    "print(group_avg.columns)"
   ]
  },
  {
   "cell_type": "code",
   "execution_count": 97,
   "metadata": {},
   "outputs": [
    {
     "name": "stdout",
     "output_type": "stream",
     "text": [
      "MultiIndex([(  'Male',  'Lunch'),\n",
      "            (  'Male', 'Dinner'),\n",
      "            ('Female',  'Lunch'),\n",
      "            ('Female', 'Dinner')],\n",
      "           names=['sex', 'time'])\n"
     ]
    }
   ],
   "source": [
    "print(group_avg.index)"
   ]
  },
  {
   "cell_type": "code",
   "execution_count": 99,
   "metadata": {},
   "outputs": [
    {
     "name": "stdout",
     "output_type": "stream",
     "text": [
      "      sex    time  total_bill       tip      size\n",
      "0    Male   Lunch   28.440000  2.560000  2.000000\n",
      "1    Male  Dinner   18.616667  2.928333  2.666667\n",
      "2  Female   Lunch   12.740000  2.260000  2.000000\n",
      "3  Female  Dinner   15.380000  3.000000  2.000000\n"
     ]
    }
   ],
   "source": [
    "# reset_index 메서드 대신 as_index=False 를 설정해도 같은 결과가 나옴 \n",
    "\n",
    "group_method = tips_10.groupby(['sex','time']).mean().reset_index()\n",
    "print(group_method)"
   ]
  },
  {
   "cell_type": "markdown",
   "metadata": {},
   "source": [
    "# --------------------------------------------문제---------------------------------------"
   ]
  },
  {
   "cell_type": "markdown",
   "metadata": {},
   "source": [
    "EDA(Exploratory Data Analysis, 탐색적 데이터 분석)"
   ]
  },
  {
   "cell_type": "markdown",
   "metadata": {},
   "source": [
    "1.chipotle.tsv 파일을 로드하세요."
   ]
  },
  {
   "cell_type": "code",
   "execution_count": 100,
   "metadata": {},
   "outputs": [
    {
     "data": {
      "text/html": [
       "<div>\n",
       "<style scoped>\n",
       "    .dataframe tbody tr th:only-of-type {\n",
       "        vertical-align: middle;\n",
       "    }\n",
       "\n",
       "    .dataframe tbody tr th {\n",
       "        vertical-align: top;\n",
       "    }\n",
       "\n",
       "    .dataframe thead th {\n",
       "        text-align: right;\n",
       "    }\n",
       "</style>\n",
       "<table border=\"1\" class=\"dataframe\">\n",
       "  <thead>\n",
       "    <tr style=\"text-align: right;\">\n",
       "      <th></th>\n",
       "      <th>order_id</th>\n",
       "      <th>quantity</th>\n",
       "      <th>item_name</th>\n",
       "      <th>choice_description</th>\n",
       "      <th>item_price</th>\n",
       "    </tr>\n",
       "  </thead>\n",
       "  <tbody>\n",
       "    <tr>\n",
       "      <td>0</td>\n",
       "      <td>1</td>\n",
       "      <td>1</td>\n",
       "      <td>Chips and Fresh Tomato Salsa</td>\n",
       "      <td>NaN</td>\n",
       "      <td>$2.39</td>\n",
       "    </tr>\n",
       "    <tr>\n",
       "      <td>1</td>\n",
       "      <td>1</td>\n",
       "      <td>1</td>\n",
       "      <td>Izze</td>\n",
       "      <td>[Clementine]</td>\n",
       "      <td>$3.39</td>\n",
       "    </tr>\n",
       "    <tr>\n",
       "      <td>2</td>\n",
       "      <td>1</td>\n",
       "      <td>1</td>\n",
       "      <td>Nantucket Nectar</td>\n",
       "      <td>[Apple]</td>\n",
       "      <td>$3.39</td>\n",
       "    </tr>\n",
       "    <tr>\n",
       "      <td>3</td>\n",
       "      <td>1</td>\n",
       "      <td>1</td>\n",
       "      <td>Chips and Tomatillo-Green Chili Salsa</td>\n",
       "      <td>NaN</td>\n",
       "      <td>$2.39</td>\n",
       "    </tr>\n",
       "    <tr>\n",
       "      <td>4</td>\n",
       "      <td>2</td>\n",
       "      <td>2</td>\n",
       "      <td>Chicken Bowl</td>\n",
       "      <td>[Tomatillo-Red Chili Salsa (Hot), [Black Beans...</td>\n",
       "      <td>$16.98</td>\n",
       "    </tr>\n",
       "    <tr>\n",
       "      <td>...</td>\n",
       "      <td>...</td>\n",
       "      <td>...</td>\n",
       "      <td>...</td>\n",
       "      <td>...</td>\n",
       "      <td>...</td>\n",
       "    </tr>\n",
       "    <tr>\n",
       "      <td>4617</td>\n",
       "      <td>1833</td>\n",
       "      <td>1</td>\n",
       "      <td>Steak Burrito</td>\n",
       "      <td>[Fresh Tomato Salsa, [Rice, Black Beans, Sour ...</td>\n",
       "      <td>$11.75</td>\n",
       "    </tr>\n",
       "    <tr>\n",
       "      <td>4618</td>\n",
       "      <td>1833</td>\n",
       "      <td>1</td>\n",
       "      <td>Steak Burrito</td>\n",
       "      <td>[Fresh Tomato Salsa, [Rice, Sour Cream, Cheese...</td>\n",
       "      <td>$11.75</td>\n",
       "    </tr>\n",
       "    <tr>\n",
       "      <td>4619</td>\n",
       "      <td>1834</td>\n",
       "      <td>1</td>\n",
       "      <td>Chicken Salad Bowl</td>\n",
       "      <td>[Fresh Tomato Salsa, [Fajita Vegetables, Pinto...</td>\n",
       "      <td>$11.25</td>\n",
       "    </tr>\n",
       "    <tr>\n",
       "      <td>4620</td>\n",
       "      <td>1834</td>\n",
       "      <td>1</td>\n",
       "      <td>Chicken Salad Bowl</td>\n",
       "      <td>[Fresh Tomato Salsa, [Fajita Vegetables, Lettu...</td>\n",
       "      <td>$8.75</td>\n",
       "    </tr>\n",
       "    <tr>\n",
       "      <td>4621</td>\n",
       "      <td>1834</td>\n",
       "      <td>1</td>\n",
       "      <td>Chicken Salad Bowl</td>\n",
       "      <td>[Fresh Tomato Salsa, [Fajita Vegetables, Pinto...</td>\n",
       "      <td>$8.75</td>\n",
       "    </tr>\n",
       "  </tbody>\n",
       "</table>\n",
       "<p>4622 rows × 5 columns</p>\n",
       "</div>"
      ],
      "text/plain": [
       "      order_id  quantity                              item_name  \\\n",
       "0            1         1           Chips and Fresh Tomato Salsa   \n",
       "1            1         1                                   Izze   \n",
       "2            1         1                       Nantucket Nectar   \n",
       "3            1         1  Chips and Tomatillo-Green Chili Salsa   \n",
       "4            2         2                           Chicken Bowl   \n",
       "...        ...       ...                                    ...   \n",
       "4617      1833         1                          Steak Burrito   \n",
       "4618      1833         1                          Steak Burrito   \n",
       "4619      1834         1                     Chicken Salad Bowl   \n",
       "4620      1834         1                     Chicken Salad Bowl   \n",
       "4621      1834         1                     Chicken Salad Bowl   \n",
       "\n",
       "                                     choice_description item_price  \n",
       "0                                                   NaN     $2.39   \n",
       "1                                          [Clementine]     $3.39   \n",
       "2                                               [Apple]     $3.39   \n",
       "3                                                   NaN     $2.39   \n",
       "4     [Tomatillo-Red Chili Salsa (Hot), [Black Beans...    $16.98   \n",
       "...                                                 ...        ...  \n",
       "4617  [Fresh Tomato Salsa, [Rice, Black Beans, Sour ...    $11.75   \n",
       "4618  [Fresh Tomato Salsa, [Rice, Sour Cream, Cheese...    $11.75   \n",
       "4619  [Fresh Tomato Salsa, [Fajita Vegetables, Pinto...    $11.25   \n",
       "4620  [Fresh Tomato Salsa, [Fajita Vegetables, Lettu...     $8.75   \n",
       "4621  [Fresh Tomato Salsa, [Fajita Vegetables, Pinto...     $8.75   \n",
       "\n",
       "[4622 rows x 5 columns]"
      ]
     },
     "execution_count": 100,
     "metadata": {},
     "output_type": "execute_result"
    }
   ],
   "source": [
    "import pandas as pd\n",
    "ch = pd.read_csv('../data/chipotle.tsv', sep='\\t')\n",
    "ch"
   ]
  },
  {
   "cell_type": "markdown",
   "metadata": {},
   "source": [
    "2.행과 열을 확인하세요."
   ]
  },
  {
   "cell_type": "code",
   "execution_count": 105,
   "metadata": {},
   "outputs": [
    {
     "name": "stdout",
     "output_type": "stream",
     "text": [
      "(4622, 5)\n"
     ]
    }
   ],
   "source": [
    "print(ch.shape)"
   ]
  },
  {
   "cell_type": "markdown",
   "metadata": {},
   "source": [
    "3.그외 기본 정보 확인하세요."
   ]
  },
  {
   "cell_type": "code",
   "execution_count": 130,
   "metadata": {},
   "outputs": [
    {
     "name": "stdout",
     "output_type": "stream",
     "text": [
      "   order_id  quantity                              item_name  \\\n",
      "0         1         1           Chips and Fresh Tomato Salsa   \n",
      "1         1         1                                   Izze   \n",
      "2         1         1                       Nantucket Nectar   \n",
      "3         1         1  Chips and Tomatillo-Green Chili Salsa   \n",
      "4         2         2                           Chicken Bowl   \n",
      "\n",
      "                                  choice_description item_price order_id_str  \n",
      "0                                                NaN     $2.39             1  \n",
      "1                                       [Clementine]     $3.39             1  \n",
      "2                                            [Apple]     $3.39             1  \n",
      "3                                                NaN     $2.39             1  \n",
      "4  [Tomatillo-Red Chili Salsa (Hot), [Black Beans...    $16.98             2  \n"
     ]
    }
   ],
   "source": [
    "print(ch.head())"
   ]
  },
  {
   "cell_type": "markdown",
   "metadata": {},
   "source": [
    "4. 10개의 row 데이터를 보여줍니다."
   ]
  },
  {
   "cell_type": "code",
   "execution_count": 108,
   "metadata": {},
   "outputs": [
    {
     "name": "stdout",
     "output_type": "stream",
     "text": [
      "   order_id  quantity                              item_name  \\\n",
      "0         1         1           Chips and Fresh Tomato Salsa   \n",
      "1         1         1                                   Izze   \n",
      "2         1         1                       Nantucket Nectar   \n",
      "3         1         1  Chips and Tomatillo-Green Chili Salsa   \n",
      "4         2         2                           Chicken Bowl   \n",
      "5         3         1                           Chicken Bowl   \n",
      "6         3         1                          Side of Chips   \n",
      "7         4         1                          Steak Burrito   \n",
      "8         4         1                       Steak Soft Tacos   \n",
      "9         5         1                          Steak Burrito   \n",
      "\n",
      "                                  choice_description item_price  \n",
      "0                                                NaN     $2.39   \n",
      "1                                       [Clementine]     $3.39   \n",
      "2                                            [Apple]     $3.39   \n",
      "3                                                NaN     $2.39   \n",
      "4  [Tomatillo-Red Chili Salsa (Hot), [Black Beans...    $16.98   \n",
      "5  [Fresh Tomato Salsa (Mild), [Rice, Cheese, Sou...    $10.98   \n",
      "6                                                NaN     $1.69   \n",
      "7  [Tomatillo Red Chili Salsa, [Fajita Vegetables...    $11.75   \n",
      "8  [Tomatillo Green Chili Salsa, [Pinto Beans, Ch...     $9.25   \n",
      "9  [Fresh Tomato Salsa, [Rice, Black Beans, Pinto...     $9.25   \n"
     ]
    }
   ],
   "source": [
    "print(ch.head(10))"
   ]
  },
  {
   "cell_type": "markdown",
   "metadata": {},
   "source": [
    "5. 칼럼들 출력"
   ]
  },
  {
   "cell_type": "code",
   "execution_count": 109,
   "metadata": {},
   "outputs": [
    {
     "name": "stdout",
     "output_type": "stream",
     "text": [
      "Index(['order_id', 'quantity', 'item_name', 'choice_description',\n",
      "       'item_price'],\n",
      "      dtype='object')\n"
     ]
    }
   ],
   "source": [
    "print(ch.columns)"
   ]
  },
  {
   "cell_type": "markdown",
   "metadata": {},
   "source": [
    "6. index 출력"
   ]
  },
  {
   "cell_type": "code",
   "execution_count": 110,
   "metadata": {},
   "outputs": [
    {
     "name": "stdout",
     "output_type": "stream",
     "text": [
      "RangeIndex(start=0, stop=4622, step=1)\n"
     ]
    }
   ],
   "source": [
    "print(ch.index)"
   ]
  },
  {
   "cell_type": "markdown",
   "metadata": {},
   "source": [
    "7. 기초통계량"
   ]
  },
  {
   "cell_type": "code",
   "execution_count": 111,
   "metadata": {},
   "outputs": [
    {
     "name": "stdout",
     "output_type": "stream",
     "text": [
      "          order_id     quantity\n",
      "count  4622.000000  4622.000000\n",
      "mean    927.254868     1.075725\n",
      "std     528.890796     0.410186\n",
      "min       1.000000     1.000000\n",
      "25%     477.250000     1.000000\n",
      "50%     926.000000     1.000000\n",
      "75%    1393.000000     1.000000\n",
      "max    1834.000000    15.000000\n"
     ]
    }
   ],
   "source": [
    "import pandas as pd\n",
    "import numpy as np\n",
    "\n",
    "dfdf = ch.describe()\n",
    "print(dfdf)"
   ]
  },
  {
   "cell_type": "markdown",
   "metadata": {},
   "source": [
    "8. order_id str로 변환"
   ]
  },
  {
   "cell_type": "code",
   "execution_count": 123,
   "metadata": {},
   "outputs": [
    {
     "name": "stdout",
     "output_type": "stream",
     "text": [
      "order_id               int64\n",
      "quantity               int64\n",
      "item_name             object\n",
      "choice_description    object\n",
      "item_price            object\n",
      "order_id_str          object\n",
      "dtype: object\n",
      "\n",
      "-----------------------------------------------------\n",
      "   order_id  quantity                              item_name  \\\n",
      "0         1         1           Chips and Fresh Tomato Salsa   \n",
      "1         1         1                                   Izze   \n",
      "2         1         1                       Nantucket Nectar   \n",
      "3         1         1  Chips and Tomatillo-Green Chili Salsa   \n",
      "4         2         2                           Chicken Bowl   \n",
      "\n",
      "                                  choice_description item_price order_id_str  \n",
      "0                                                NaN     $2.39             1  \n",
      "1                                       [Clementine]     $3.39             1  \n",
      "2                                            [Apple]     $3.39             1  \n",
      "3                                                NaN     $2.39             1  \n",
      "4  [Tomatillo-Red Chili Salsa (Hot), [Black Beans...    $16.98             2  \n"
     ]
    }
   ],
   "source": [
    "ch['order_id_str'] = ch['order_id'].astype(str)\n",
    "\n",
    "print(ch.dtypes)\n",
    "\n",
    "print('\\n-----------------------------------------------------')\n",
    "\n",
    "print(ch.head())"
   ]
  },
  {
   "cell_type": "markdown",
   "metadata": {},
   "source": [
    "9. order_id의 개수를 출력"
   ]
  },
  {
   "cell_type": "code",
   "execution_count": 124,
   "metadata": {},
   "outputs": [
    {
     "data": {
      "text/plain": [
       "4622"
      ]
     },
     "execution_count": 124,
     "metadata": {},
     "output_type": "execute_result"
    }
   ],
   "source": [
    "ch['order_id'].count()"
   ]
  },
  {
   "cell_type": "markdown",
   "metadata": {},
   "source": [
    "10. item_name의 개수를 출력"
   ]
  },
  {
   "cell_type": "code",
   "execution_count": 126,
   "metadata": {},
   "outputs": [
    {
     "data": {
      "text/plain": [
       "4622"
      ]
     },
     "execution_count": 126,
     "metadata": {},
     "output_type": "execute_result"
    }
   ],
   "source": [
    "ch['item_name'].count()"
   ]
  },
  {
   "cell_type": "markdown",
   "metadata": {},
   "source": [
    "11. 가장 많이 주문한 item : top 5을 출력"
   ]
  },
  {
   "cell_type": "code",
   "execution_count": 131,
   "metadata": {},
   "outputs": [
    {
     "data": {
      "text/plain": [
       "Chicken Bowl           726\n",
       "Chicken Burrito        553\n",
       "Chips and Guacamole    479\n",
       "Steak Burrito          368\n",
       "Canned Soft Drink      301\n",
       "Name: item_name, dtype: int64"
      ]
     },
     "execution_count": 131,
     "metadata": {},
     "output_type": "execute_result"
    }
   ],
   "source": [
    "ch['item_name'].value_counts().head(5)"
   ]
  },
  {
   "cell_type": "markdown",
   "metadata": {},
   "source": [
    "12. item당 주문 개수를 출력"
   ]
  },
  {
   "cell_type": "code",
   "execution_count": 132,
   "metadata": {},
   "outputs": [
    {
     "name": "stdout",
     "output_type": "stream",
     "text": [
      "Chicken Bowl                             726\n",
      "Chicken Burrito                          553\n",
      "Chips and Guacamole                      479\n",
      "Steak Burrito                            368\n",
      "Canned Soft Drink                        301\n",
      "Chips                                    211\n",
      "Steak Bowl                               211\n",
      "Bottled Water                            162\n",
      "Chicken Soft Tacos                       115\n",
      "Chicken Salad Bowl                       110\n",
      "Chips and Fresh Tomato Salsa             110\n",
      "Canned Soda                              104\n",
      "Side of Chips                            101\n",
      "Veggie Burrito                            95\n",
      "Barbacoa Burrito                          91\n",
      "Veggie Bowl                               85\n",
      "Carnitas Bowl                             68\n",
      "Barbacoa Bowl                             66\n",
      "Carnitas Burrito                          59\n",
      "Steak Soft Tacos                          55\n",
      "6 Pack Soft Drink                         54\n",
      "Chips and Tomatillo Red Chili Salsa       48\n",
      "Chicken Crispy Tacos                      47\n",
      "Chips and Tomatillo Green Chili Salsa     43\n",
      "Carnitas Soft Tacos                       40\n",
      "Steak Crispy Tacos                        35\n",
      "Chips and Tomatillo-Green Chili Salsa     31\n",
      "Steak Salad Bowl                          29\n",
      "Nantucket Nectar                          27\n",
      "Barbacoa Soft Tacos                       25\n",
      "Chips and Roasted Chili Corn Salsa        22\n",
      "Chips and Tomatillo-Red Chili Salsa       20\n",
      "Izze                                      20\n",
      "Chips and Roasted Chili-Corn Salsa        18\n",
      "Veggie Salad Bowl                         18\n",
      "Barbacoa Crispy Tacos                     11\n",
      "Barbacoa Salad Bowl                       10\n",
      "Chicken Salad                              9\n",
      "Veggie Soft Tacos                          7\n",
      "Carnitas Crispy Tacos                      7\n",
      "Veggie Salad                               6\n",
      "Carnitas Salad Bowl                        6\n",
      "Burrito                                    6\n",
      "Steak Salad                                4\n",
      "Salad                                      2\n",
      "Bowl                                       2\n",
      "Crispy Tacos                               2\n",
      "Veggie Crispy Tacos                        1\n",
      "Carnitas Salad                             1\n",
      "Chips and Mild Fresh Tomato Salsa          1\n",
      "Name: item_name, dtype: int64\n"
     ]
    }
   ],
   "source": [
    "print(ch['item_name'].value_counts())"
   ]
  },
  {
   "cell_type": "markdown",
   "metadata": {},
   "source": [
    "# ---------------------------------------문제2-----------------------------"
   ]
  },
  {
   "cell_type": "markdown",
   "metadata": {},
   "source": [
    "전국민 카드 및 대출 이용통계 데이터 연령대/거주지/성별 구분에\n",
    "따른 카드 및 대출 이용통계 데이터로, 구분 값 별 카드이용금액 비교,\n",
    "대출금액 및 대출 특이사항 비교 등이 가능\n"
   ]
  },
  {
   "cell_type": "code",
   "execution_count": 134,
   "metadata": {},
   "outputs": [
    {
     "data": {
      "text/html": [
       "<div>\n",
       "<style scoped>\n",
       "    .dataframe tbody tr th:only-of-type {\n",
       "        vertical-align: middle;\n",
       "    }\n",
       "\n",
       "    .dataframe tbody tr th {\n",
       "        vertical-align: top;\n",
       "    }\n",
       "\n",
       "    .dataframe thead th {\n",
       "        text-align: right;\n",
       "    }\n",
       "</style>\n",
       "<table border=\"1\" class=\"dataframe\">\n",
       "  <thead>\n",
       "    <tr style=\"text-align: right;\">\n",
       "      <th></th>\n",
       "      <th>pop_cd,year,month,avg_score,avg_rat,city,sex,ages,population,num_opencard,num_usecard,monthly_card_spend,monthly_lc,monthly_loan,monthly_bk_loan,monthly_cd_loan,monthly_installments_loan,monthly_insurance_loan,monthly_sbk_loan,loan_commitment,inst_rep_loanb,ls_rep_loanb,credit_loan,mortgage_loan,credit_card_payment,credit_card_installments_payment</th>\n",
       "    </tr>\n",
       "  </thead>\n",
       "  <tbody>\n",
       "    <tr>\n",
       "      <td>0</td>\n",
       "      <td>L011,2016,1,812,2,서울,,10대,55000,1.44,1.13,7000...</td>\n",
       "    </tr>\n",
       "    <tr>\n",
       "      <td>1</td>\n",
       "      <td>L011,2016,2,773,4,서울,,10대,380000,1.71,0.96,170...</td>\n",
       "    </tr>\n",
       "    <tr>\n",
       "      <td>2</td>\n",
       "      <td>L011,2016,3,771,4,서울,,10대,387000,1.75,0.95,190...</td>\n",
       "    </tr>\n",
       "    <tr>\n",
       "      <td>3</td>\n",
       "      <td>L011,2016,4,770,4,서울,,10대,412000,1.76,0.92,200...</td>\n",
       "    </tr>\n",
       "    <tr>\n",
       "      <td>4</td>\n",
       "      <td>L011,2016,5,771,4,서울,,10대,414000,1.75,0.94,170...</td>\n",
       "    </tr>\n",
       "    <tr>\n",
       "      <td>5</td>\n",
       "      <td>L011,2016,6,771,4,서울,,10대,410000,1.75,0.96,190...</td>\n",
       "    </tr>\n",
       "    <tr>\n",
       "      <td>6</td>\n",
       "      <td>L011,2016,7,772,4,서울,,10대,407000,1.75,0.97,180...</td>\n",
       "    </tr>\n",
       "    <tr>\n",
       "      <td>7</td>\n",
       "      <td>L011,2016,8,772,4,서울,,10대,403000,1.75,0.98,170...</td>\n",
       "    </tr>\n",
       "    <tr>\n",
       "      <td>8</td>\n",
       "      <td>L011,2016,9,772,4,서울,,10대,399000,1.74,0.99,190...</td>\n",
       "    </tr>\n",
       "    <tr>\n",
       "      <td>9</td>\n",
       "      <td>L011,2016,10,773,4,서울,,10대,395000,1.73,0.98,18...</td>\n",
       "    </tr>\n",
       "  </tbody>\n",
       "</table>\n",
       "</div>"
      ],
      "text/plain": [
       "  pop_cd,year,month,avg_score,avg_rat,city,sex,ages,population,num_opencard,num_usecard,monthly_card_spend,monthly_lc,monthly_loan,monthly_bk_loan,monthly_cd_loan,monthly_installments_loan,monthly_insurance_loan,monthly_sbk_loan,loan_commitment,inst_rep_loanb,ls_rep_loanb,credit_loan,mortgage_loan,credit_card_payment,credit_card_installments_payment\n",
       "0  L011,2016,1,812,2,서울,,10대,55000,1.44,1.13,7000...                                                                                                                                                                                                                                                                                                           \n",
       "1  L011,2016,2,773,4,서울,,10대,380000,1.71,0.96,170...                                                                                                                                                                                                                                                                                                           \n",
       "2  L011,2016,3,771,4,서울,,10대,387000,1.75,0.95,190...                                                                                                                                                                                                                                                                                                           \n",
       "3  L011,2016,4,770,4,서울,,10대,412000,1.76,0.92,200...                                                                                                                                                                                                                                                                                                           \n",
       "4  L011,2016,5,771,4,서울,,10대,414000,1.75,0.94,170...                                                                                                                                                                                                                                                                                                           \n",
       "5  L011,2016,6,771,4,서울,,10대,410000,1.75,0.96,190...                                                                                                                                                                                                                                                                                                           \n",
       "6  L011,2016,7,772,4,서울,,10대,407000,1.75,0.97,180...                                                                                                                                                                                                                                                                                                           \n",
       "7  L011,2016,8,772,4,서울,,10대,403000,1.75,0.98,170...                                                                                                                                                                                                                                                                                                           \n",
       "8  L011,2016,9,772,4,서울,,10대,399000,1.74,0.99,190...                                                                                                                                                                                                                                                                                                           \n",
       "9  L011,2016,10,773,4,서울,,10대,395000,1.73,0.98,18...                                                                                                                                                                                                                                                                                                           "
      ]
     },
     "execution_count": 134,
     "metadata": {},
     "output_type": "execute_result"
    }
   ],
   "source": [
    "import pandas as pd\n",
    "ca = pd.read_csv('../data/credit_card_data.csv', sep='\\t')\n",
    "ca.head(10)"
   ]
  },
  {
   "cell_type": "markdown",
   "metadata": {},
   "source": [
    "1. 연령대별 월 카드 이용 총 금액"
   ]
  },
  {
   "cell_type": "code",
   "execution_count": null,
   "metadata": {},
   "outputs": [],
   "source": []
  },
  {
   "cell_type": "markdown",
   "metadata": {},
   "source": [
    "2. 지역별 월 카드 이용 총 금액"
   ]
  },
  {
   "cell_type": "code",
   "execution_count": null,
   "metadata": {},
   "outputs": [],
   "source": []
  },
  {
   "cell_type": "markdown",
   "metadata": {},
   "source": [
    "3. 30대의 총 대출 금액은 얼마인가요?"
   ]
  },
  {
   "cell_type": "code",
   "execution_count": null,
   "metadata": {},
   "outputs": [],
   "source": []
  },
  {
   "cell_type": "markdown",
   "metadata": {},
   "source": [
    "4. 30대의 월 카드 이용 금액을 그래프로 나타내 보세요."
   ]
  },
  {
   "cell_type": "code",
   "execution_count": null,
   "metadata": {},
   "outputs": [],
   "source": []
  },
  {
   "cell_type": "code",
   "execution_count": null,
   "metadata": {},
   "outputs": [],
   "source": []
  },
  {
   "cell_type": "code",
   "execution_count": null,
   "metadata": {},
   "outputs": [],
   "source": []
  },
  {
   "cell_type": "code",
   "execution_count": null,
   "metadata": {},
   "outputs": [],
   "source": []
  },
  {
   "cell_type": "code",
   "execution_count": null,
   "metadata": {},
   "outputs": [],
   "source": []
  },
  {
   "cell_type": "code",
   "execution_count": null,
   "metadata": {},
   "outputs": [],
   "source": []
  },
  {
   "cell_type": "code",
   "execution_count": null,
   "metadata": {},
   "outputs": [],
   "source": []
  },
  {
   "cell_type": "code",
   "execution_count": null,
   "metadata": {},
   "outputs": [],
   "source": []
  },
  {
   "cell_type": "code",
   "execution_count": null,
   "metadata": {},
   "outputs": [],
   "source": []
  },
  {
   "cell_type": "code",
   "execution_count": null,
   "metadata": {},
   "outputs": [],
   "source": []
  },
  {
   "cell_type": "code",
   "execution_count": null,
   "metadata": {},
   "outputs": [],
   "source": []
  },
  {
   "cell_type": "code",
   "execution_count": null,
   "metadata": {},
   "outputs": [],
   "source": []
  },
  {
   "cell_type": "code",
   "execution_count": null,
   "metadata": {},
   "outputs": [],
   "source": []
  },
  {
   "cell_type": "code",
   "execution_count": null,
   "metadata": {},
   "outputs": [],
   "source": []
  },
  {
   "cell_type": "code",
   "execution_count": null,
   "metadata": {},
   "outputs": [],
   "source": []
  },
  {
   "cell_type": "code",
   "execution_count": null,
   "metadata": {},
   "outputs": [],
   "source": []
  },
  {
   "cell_type": "code",
   "execution_count": null,
   "metadata": {},
   "outputs": [],
   "source": []
  },
  {
   "cell_type": "code",
   "execution_count": null,
   "metadata": {},
   "outputs": [],
   "source": []
  },
  {
   "cell_type": "code",
   "execution_count": null,
   "metadata": {},
   "outputs": [],
   "source": []
  },
  {
   "cell_type": "code",
   "execution_count": null,
   "metadata": {},
   "outputs": [],
   "source": []
  },
  {
   "cell_type": "code",
   "execution_count": null,
   "metadata": {},
   "outputs": [],
   "source": []
  },
  {
   "cell_type": "code",
   "execution_count": null,
   "metadata": {},
   "outputs": [],
   "source": []
  },
  {
   "cell_type": "code",
   "execution_count": null,
   "metadata": {},
   "outputs": [],
   "source": []
  },
  {
   "cell_type": "code",
   "execution_count": null,
   "metadata": {},
   "outputs": [],
   "source": []
  },
  {
   "cell_type": "code",
   "execution_count": null,
   "metadata": {},
   "outputs": [],
   "source": []
  },
  {
   "cell_type": "code",
   "execution_count": null,
   "metadata": {},
   "outputs": [],
   "source": []
  },
  {
   "cell_type": "code",
   "execution_count": null,
   "metadata": {},
   "outputs": [],
   "source": []
  },
  {
   "cell_type": "code",
   "execution_count": null,
   "metadata": {},
   "outputs": [],
   "source": []
  },
  {
   "cell_type": "code",
   "execution_count": null,
   "metadata": {},
   "outputs": [],
   "source": []
  },
  {
   "cell_type": "code",
   "execution_count": null,
   "metadata": {},
   "outputs": [],
   "source": []
  },
  {
   "cell_type": "code",
   "execution_count": null,
   "metadata": {},
   "outputs": [],
   "source": []
  },
  {
   "cell_type": "code",
   "execution_count": null,
   "metadata": {},
   "outputs": [],
   "source": []
  },
  {
   "cell_type": "code",
   "execution_count": null,
   "metadata": {},
   "outputs": [],
   "source": []
  },
  {
   "cell_type": "code",
   "execution_count": null,
   "metadata": {},
   "outputs": [],
   "source": []
  },
  {
   "cell_type": "code",
   "execution_count": null,
   "metadata": {},
   "outputs": [],
   "source": []
  },
  {
   "cell_type": "code",
   "execution_count": null,
   "metadata": {},
   "outputs": [],
   "source": []
  },
  {
   "cell_type": "code",
   "execution_count": null,
   "metadata": {},
   "outputs": [],
   "source": []
  },
  {
   "cell_type": "code",
   "execution_count": null,
   "metadata": {},
   "outputs": [],
   "source": []
  },
  {
   "cell_type": "code",
   "execution_count": null,
   "metadata": {},
   "outputs": [],
   "source": []
  },
  {
   "cell_type": "code",
   "execution_count": null,
   "metadata": {},
   "outputs": [],
   "source": []
  },
  {
   "cell_type": "code",
   "execution_count": null,
   "metadata": {},
   "outputs": [],
   "source": []
  },
  {
   "cell_type": "code",
   "execution_count": null,
   "metadata": {},
   "outputs": [],
   "source": []
  },
  {
   "cell_type": "code",
   "execution_count": null,
   "metadata": {},
   "outputs": [],
   "source": []
  },
  {
   "cell_type": "code",
   "execution_count": null,
   "metadata": {},
   "outputs": [],
   "source": []
  },
  {
   "cell_type": "code",
   "execution_count": null,
   "metadata": {},
   "outputs": [],
   "source": []
  },
  {
   "cell_type": "code",
   "execution_count": null,
   "metadata": {},
   "outputs": [],
   "source": []
  },
  {
   "cell_type": "code",
   "execution_count": null,
   "metadata": {},
   "outputs": [],
   "source": []
  },
  {
   "cell_type": "code",
   "execution_count": null,
   "metadata": {},
   "outputs": [],
   "source": []
  },
  {
   "cell_type": "code",
   "execution_count": null,
   "metadata": {},
   "outputs": [],
   "source": []
  },
  {
   "cell_type": "code",
   "execution_count": null,
   "metadata": {},
   "outputs": [],
   "source": []
  },
  {
   "cell_type": "code",
   "execution_count": null,
   "metadata": {},
   "outputs": [],
   "source": []
  },
  {
   "cell_type": "code",
   "execution_count": null,
   "metadata": {},
   "outputs": [],
   "source": []
  },
  {
   "cell_type": "code",
   "execution_count": null,
   "metadata": {},
   "outputs": [],
   "source": []
  },
  {
   "cell_type": "code",
   "execution_count": null,
   "metadata": {},
   "outputs": [],
   "source": []
  },
  {
   "cell_type": "code",
   "execution_count": null,
   "metadata": {},
   "outputs": [],
   "source": []
  },
  {
   "cell_type": "code",
   "execution_count": null,
   "metadata": {},
   "outputs": [],
   "source": []
  }
 ],
 "metadata": {
  "kernelspec": {
   "display_name": "Python 3",
   "language": "python",
   "name": "python3"
  },
  "language_info": {
   "codemirror_mode": {
    "name": "ipython",
    "version": 3
   },
   "file_extension": ".py",
   "mimetype": "text/x-python",
   "name": "python",
   "nbconvert_exporter": "python",
   "pygments_lexer": "ipython3",
   "version": "3.7.4"
  }
 },
 "nbformat": 4,
 "nbformat_minor": 2
}
