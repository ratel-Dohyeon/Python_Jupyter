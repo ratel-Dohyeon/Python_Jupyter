{
 "cells": [
  {
   "cell_type": "markdown",
   "metadata": {},
   "source": [
    "1-1) 7개의 파일을 합쳐서"
   ]
  },
  {
   "cell_type": "code",
   "execution_count": 43,
   "metadata": {},
   "outputs": [
    {
     "data": {
      "text/html": [
       "<div>\n",
       "<style scoped>\n",
       "    .dataframe tbody tr th:only-of-type {\n",
       "        vertical-align: middle;\n",
       "    }\n",
       "\n",
       "    .dataframe tbody tr th {\n",
       "        vertical-align: top;\n",
       "    }\n",
       "\n",
       "    .dataframe thead th {\n",
       "        text-align: right;\n",
       "    }\n",
       "</style>\n",
       "<table border=\"1\" class=\"dataframe\">\n",
       "  <thead>\n",
       "    <tr style=\"text-align: right;\">\n",
       "      <th></th>\n",
       "      <th>citation</th>\n",
       "      <th>doi</th>\n",
       "      <th>PMCID</th>\n",
       "      <th>PMID</th>\n",
       "      <th>Title</th>\n",
       "      <th>Author</th>\n",
       "      <th>Belong</th>\n",
       "      <th>Abstract</th>\n",
       "      <th>Keywords</th>\n",
       "      <th>year</th>\n",
       "    </tr>\n",
       "  </thead>\n",
       "  <tbody>\n",
       "    <tr>\n",
       "      <td>0</td>\n",
       "      <td>Int J Mol Sci. 2011; 12(5): 3205–3219.</td>\n",
       "      <td>10.3390/ijms12053205</td>\n",
       "      <td>PMC3116186</td>\n",
       "      <td>21686180.0</td>\n",
       "      <td>Novel Strategies for Drug Discovery Based on I...</td>\n",
       "      <td>Jihua Wang;Zanxia Cao;Liling Zhao;Shuqiang Li</td>\n",
       "      <td>1 Shandong Provincial Key Laboratory of Functi...</td>\n",
       "      <td>Intrinsically disordered proteins (IDPs) are p...</td>\n",
       "      <td>intrinsically disordered proteins;sequence cha...</td>\n",
       "      <td>2011</td>\n",
       "    </tr>\n",
       "    <tr>\n",
       "      <td>1</td>\n",
       "      <td>Int J Mol Sci. 2011; 12(2): 1410–1430.</td>\n",
       "      <td>10.3390/ijms12021410</td>\n",
       "      <td>PMC3083713</td>\n",
       "      <td>21541066.0</td>\n",
       "      <td>Anchoring Intrinsically Disordered Proteins to...</td>\n",
       "      <td>Yongqi Huang;Zhirong Liu</td>\n",
       "      <td>1 State Key Laboratory for Structural Chemistr...</td>\n",
       "      <td>Anchor residues, which are deeply buried upon ...</td>\n",
       "      <td>anchor residue;intrinsically disordered protei...</td>\n",
       "      <td>2011</td>\n",
       "    </tr>\n",
       "    <tr>\n",
       "      <td>2</td>\n",
       "      <td>BMC Bioinformatics. 2011; 12: 245.</td>\n",
       "      <td>10.1186/1471-2105-12-245</td>\n",
       "      <td>PMC3212983</td>\n",
       "      <td>21682902.0</td>\n",
       "      <td>In-silico prediction of disorder content using...</td>\n",
       "      <td>Marcin J Mizianty;Tuo Zhang;Bin Xue;Yaoqi Zhou...</td>\n",
       "      <td>1Department of Electrical and Computer Enginee...</td>\n",
       "      <td>Intrinsically disordered proteins play importa...</td>\n",
       "      <td>NaN</td>\n",
       "      <td>2011</td>\n",
       "    </tr>\n",
       "    <tr>\n",
       "      <td>3</td>\n",
       "      <td>Protein Sci. 2011 Aug; 20(8): 1285–1297.</td>\n",
       "      <td>10.1002/pro.657</td>\n",
       "      <td>PMC3189518</td>\n",
       "      <td>21574196.0</td>\n",
       "      <td>Context-dependent resistance to proteolysis of...</td>\n",
       "      <td>Marcin J Suskiewicz;Joel L Sussman;Israel Silm...</td>\n",
       "      <td>1Biological Chemistry Faculty, The Israel Stru...</td>\n",
       "      <td>Intrinsically disordered proteins (IDPs), also...</td>\n",
       "      <td>intrinsically disordered proteins;IDPs;intrins...</td>\n",
       "      <td>2011</td>\n",
       "    </tr>\n",
       "    <tr>\n",
       "      <td>4</td>\n",
       "      <td>J Cell Biochem. 2011 Nov; 112(11): 3256–3267.</td>\n",
       "      <td>10.1002/jcb.23252</td>\n",
       "      <td>PMC3214731</td>\n",
       "      <td>21748782.0</td>\n",
       "      <td>A Majority of the Cancer/Testis Antigens are I...</td>\n",
       "      <td>Krithika Rajagopalan;Steven M. Mooney;Nehal Pa...</td>\n",
       "      <td>*Department of Urology, James Buchanan Brady U...</td>\n",
       "      <td>The Cancer/Testis Antigens (CTAs) are a group ...</td>\n",
       "      <td>Cancer/Testis Antigens;Intrinsically Disordere...</td>\n",
       "      <td>2011</td>\n",
       "    </tr>\n",
       "  </tbody>\n",
       "</table>\n",
       "</div>"
      ],
      "text/plain": [
       "                                        citation                       doi  \\\n",
       "0         Int J Mol Sci. 2011; 12(5): 3205–3219.      10.3390/ijms12053205   \n",
       "1         Int J Mol Sci. 2011; 12(2): 1410–1430.      10.3390/ijms12021410   \n",
       "2             BMC Bioinformatics. 2011; 12: 245.  10.1186/1471-2105-12-245   \n",
       "3       Protein Sci. 2011 Aug; 20(8): 1285–1297.           10.1002/pro.657   \n",
       "4  J Cell Biochem. 2011 Nov; 112(11): 3256–3267.         10.1002/jcb.23252   \n",
       "\n",
       "        PMCID        PMID                                              Title  \\\n",
       "0  PMC3116186  21686180.0  Novel Strategies for Drug Discovery Based on I...   \n",
       "1  PMC3083713  21541066.0  Anchoring Intrinsically Disordered Proteins to...   \n",
       "2  PMC3212983  21682902.0  In-silico prediction of disorder content using...   \n",
       "3  PMC3189518  21574196.0  Context-dependent resistance to proteolysis of...   \n",
       "4  PMC3214731  21748782.0  A Majority of the Cancer/Testis Antigens are I...   \n",
       "\n",
       "                                              Author  \\\n",
       "0      Jihua Wang;Zanxia Cao;Liling Zhao;Shuqiang Li   \n",
       "1                           Yongqi Huang;Zhirong Liu   \n",
       "2  Marcin J Mizianty;Tuo Zhang;Bin Xue;Yaoqi Zhou...   \n",
       "3  Marcin J Suskiewicz;Joel L Sussman;Israel Silm...   \n",
       "4  Krithika Rajagopalan;Steven M. Mooney;Nehal Pa...   \n",
       "\n",
       "                                              Belong  \\\n",
       "0  1 Shandong Provincial Key Laboratory of Functi...   \n",
       "1  1 State Key Laboratory for Structural Chemistr...   \n",
       "2  1Department of Electrical and Computer Enginee...   \n",
       "3  1Biological Chemistry Faculty, The Israel Stru...   \n",
       "4  *Department of Urology, James Buchanan Brady U...   \n",
       "\n",
       "                                            Abstract  \\\n",
       "0  Intrinsically disordered proteins (IDPs) are p...   \n",
       "1  Anchor residues, which are deeply buried upon ...   \n",
       "2  Intrinsically disordered proteins play importa...   \n",
       "3  Intrinsically disordered proteins (IDPs), also...   \n",
       "4  The Cancer/Testis Antigens (CTAs) are a group ...   \n",
       "\n",
       "                                            Keywords  year  \n",
       "0  intrinsically disordered proteins;sequence cha...  2011  \n",
       "1  anchor residue;intrinsically disordered protei...  2011  \n",
       "2                                                NaN  2011  \n",
       "3  intrinsically disordered proteins;IDPs;intrins...  2011  \n",
       "4  Cancer/Testis Antigens;Intrinsically Disordere...  2011  "
      ]
     },
     "execution_count": 43,
     "metadata": {},
     "output_type": "execute_result"
    }
   ],
   "source": [
    "import pandas as pd\n",
    "\n",
    "paper_11 = pd.read_csv('../data/paper_information_2011.csv')\n",
    "paper_12 = pd.read_csv('../data/paper_information_2012.csv')\n",
    "paper_13 = pd.read_csv('../data/paper_information_2013.csv')\n",
    "paper_14 = pd.read_csv('../data/paper_information_2014.csv')\n",
    "paper_15 = pd.read_csv('../data/paper_information_2015.csv')\n",
    "paper_19 = pd.read_csv('../data/paper_information_2019.csv')\n",
    "paper_20 = pd.read_csv('../data/paper_information_2020.csv')\n",
    "\n",
    "paper_11['year'] = 2011\n",
    "paper_12['year'] = 2012\n",
    "paper_13['year'] = 2013\n",
    "paper_14['year'] = 2014\n",
    "paper_15['year'] = 2015\n",
    "paper_19['year'] = 2019\n",
    "paper_20['year'] = 2020\n",
    "\n",
    "paper_11.head()"
   ]
  },
  {
   "cell_type": "code",
   "execution_count": 44,
   "metadata": {
    "collapsed": true
   },
   "outputs": [
    {
     "name": "stdout",
     "output_type": "stream",
     "text": [
      "                                        citation                       doi  \\\n",
      "0         Int J Mol Sci. 2011; 12(5): 3205–3219.      10.3390/ijms12053205   \n",
      "1         Int J Mol Sci. 2011; 12(2): 1410–1430.      10.3390/ijms12021410   \n",
      "2             BMC Bioinformatics. 2011; 12: 245.  10.1186/1471-2105-12-245   \n",
      "3       Protein Sci. 2011 Aug; 20(8): 1285–1297.           10.1002/pro.657   \n",
      "4  J Cell Biochem. 2011 Nov; 112(11): 3256–3267.         10.1002/jcb.23252   \n",
      "\n",
      "        PMCID        PMID                                              Title  \\\n",
      "0  PMC3116186  21686180.0  Novel Strategies for Drug Discovery Based on I...   \n",
      "1  PMC3083713  21541066.0  Anchoring Intrinsically Disordered Proteins to...   \n",
      "2  PMC3212983  21682902.0  In-silico prediction of disorder content using...   \n",
      "3  PMC3189518  21574196.0  Context-dependent resistance to proteolysis of...   \n",
      "4  PMC3214731  21748782.0  A Majority of the Cancer/Testis Antigens are I...   \n",
      "\n",
      "                                              Author  \\\n",
      "0      Jihua Wang;Zanxia Cao;Liling Zhao;Shuqiang Li   \n",
      "1                           Yongqi Huang;Zhirong Liu   \n",
      "2  Marcin J Mizianty;Tuo Zhang;Bin Xue;Yaoqi Zhou...   \n",
      "3  Marcin J Suskiewicz;Joel L Sussman;Israel Silm...   \n",
      "4  Krithika Rajagopalan;Steven M. Mooney;Nehal Pa...   \n",
      "\n",
      "                                              Belong  \\\n",
      "0  1 Shandong Provincial Key Laboratory of Functi...   \n",
      "1  1 State Key Laboratory for Structural Chemistr...   \n",
      "2  1Department of Electrical and Computer Enginee...   \n",
      "3  1Biological Chemistry Faculty, The Israel Stru...   \n",
      "4  *Department of Urology, James Buchanan Brady U...   \n",
      "\n",
      "                                            Abstract  \\\n",
      "0  Intrinsically disordered proteins (IDPs) are p...   \n",
      "1  Anchor residues, which are deeply buried upon ...   \n",
      "2  Intrinsically disordered proteins play importa...   \n",
      "3  Intrinsically disordered proteins (IDPs), also...   \n",
      "4  The Cancer/Testis Antigens (CTAs) are a group ...   \n",
      "\n",
      "                                            Keywords  year  \n",
      "0  intrinsically disordered proteins;sequence cha...  2011  \n",
      "1  anchor residue;intrinsically disordered protei...  2011  \n",
      "2                                                NaN  2011  \n",
      "3  intrinsically disordered proteins;IDPs;intrins...  2011  \n",
      "4  Cancer/Testis Antigens;Intrinsically Disordere...  2011  \n"
     ]
    }
   ],
   "source": [
    "paper_11_20 = pd.concat([paper_11, paper_12, paper_13, paper_14, paper_15, paper_19, paper_20])\n",
    "print(paper_11_20.head())"
   ]
  },
  {
   "cell_type": "markdown",
   "metadata": {},
   "source": [
    "2-2) 년도별 논문의 수 그래프"
   ]
  },
  {
   "cell_type": "code",
   "execution_count": 45,
   "metadata": {},
   "outputs": [
    {
     "data": {
      "text/plain": [
       "<matplotlib.axes._subplots.AxesSubplot at 0x11ed991ebc8>"
      ]
     },
     "execution_count": 45,
     "metadata": {},
     "output_type": "execute_result"
    },
    {
     "data": {
      "image/png": "[encoded data removed]",
      "text/plain": [
       "<Figure size 720x720 with 1 Axes>"
      ]
     },
     "metadata": {
      "needs_background": "light"
     },
     "output_type": "display_data"
    }
   ],
   "source": [
    "import matplotlib.pyplot as plt\n",
    "\n",
    "paper_11_20.groupby('year').size()\n",
    "plt.figure()\n",
    "paper_11_20.groupby('year').size().plot(kind = 'barh', grid=True, figsize = (10,10))"
   ]
  },
  {
   "cell_type": "markdown",
   "metadata": {},
   "source": [
    "2-3) 저널별 논문의 수 그래프로 나타내 보세요."
   ]
  },
  {
   "cell_type": "code",
   "execution_count": 46,
   "metadata": {},
   "outputs": [
    {
     "ename": "KeyError",
     "evalue": "'journal'",
     "output_type": "error",
     "traceback": [
      "\u001b[1;31m---------------------------------------------------------------------------\u001b[0m",
      "\u001b[1;31mKeyError\u001b[0m                                  Traceback (most recent call last)",
      "\u001b[1;32m<ipython-input-46-2da409f13d2b>\u001b[0m in \u001b[0;36m<module>\u001b[1;34m\u001b[0m\n\u001b[1;32m----> 1\u001b[1;33m \u001b[0mpaper_11_20\u001b[0m\u001b[1;33m.\u001b[0m\u001b[0mgroupby\u001b[0m\u001b[1;33m(\u001b[0m\u001b[1;34m'journal'\u001b[0m\u001b[1;33m)\u001b[0m\u001b[1;33m.\u001b[0m\u001b[0msize\u001b[0m\u001b[1;33m(\u001b[0m\u001b[1;33m)\u001b[0m\u001b[1;33m\u001b[0m\u001b[1;33m\u001b[0m\u001b[0m\n\u001b[0m\u001b[0;32m      2\u001b[0m \u001b[0mdf_journal\u001b[0m \u001b[1;33m=\u001b[0m \u001b[0mpaper_11_20\u001b[0m\u001b[1;33m.\u001b[0m\u001b[0mgroupby\u001b[0m\u001b[1;33m(\u001b[0m\u001b[1;34m'journal'\u001b[0m\u001b[1;33m)\u001b[0m\u001b[1;33m.\u001b[0m\u001b[0msize\u001b[0m\u001b[1;33m(\u001b[0m\u001b[1;33m)\u001b[0m\u001b[1;33m.\u001b[0m\u001b[0msort_values\u001b[0m\u001b[1;33m(\u001b[0m\u001b[0mascending\u001b[0m \u001b[1;33m=\u001b[0m \u001b[1;32mFalse\u001b[0m\u001b[1;33m)\u001b[0m\u001b[1;33m.\u001b[0m\u001b[0mhead\u001b[0m\u001b[1;33m(\u001b[0m\u001b[1;36m10\u001b[0m\u001b[1;33m)\u001b[0m\u001b[1;33m\u001b[0m\u001b[1;33m\u001b[0m\u001b[0m\n\u001b[0;32m      3\u001b[0m \u001b[0mf\u001b[0m\u001b[1;33m,\u001b[0m \u001b[0max\u001b[0m \u001b[1;33m=\u001b[0m \u001b[0mplt\u001b[0m\u001b[1;33m.\u001b[0m\u001b[0msubplots\u001b[0m\u001b[1;33m(\u001b[0m\u001b[1;36m1\u001b[0m\u001b[1;33m,\u001b[0m\u001b[1;36m1\u001b[0m\u001b[1;33m,\u001b[0m\u001b[0mfigsize\u001b[0m \u001b[1;33m=\u001b[0m \u001b[1;33m(\u001b[0m\u001b[1;36m16\u001b[0m\u001b[1;33m,\u001b[0m\u001b[1;36m8\u001b[0m\u001b[1;33m)\u001b[0m\u001b[1;33m)\u001b[0m\u001b[1;33m\u001b[0m\u001b[1;33m\u001b[0m\u001b[0m\n\u001b[0;32m      4\u001b[0m \u001b[0mdf_journal\u001b[0m\u001b[1;33m.\u001b[0m\u001b[0mplot\u001b[0m\u001b[1;33m.\u001b[0m\u001b[0mpie\u001b[0m\u001b[1;33m(\u001b[0m\u001b[0mautopct\u001b[0m \u001b[1;33m=\u001b[0m \u001b[1;34m'%1.1f%%'\u001b[0m\u001b[1;33m)\u001b[0m\u001b[1;33m\u001b[0m\u001b[1;33m\u001b[0m\u001b[0m\n\u001b[0;32m      5\u001b[0m \u001b[0max\u001b[0m\u001b[1;33m.\u001b[0m\u001b[0mset_ylabel\u001b[0m\u001b[1;33m(\u001b[0m\u001b[1;34m''\u001b[0m\u001b[1;33m)\u001b[0m\u001b[1;33m\u001b[0m\u001b[1;33m\u001b[0m\u001b[0m\n",
      "\u001b[1;32m~\\Anaconda3\\lib\\site-packages\\pandas\\core\\generic.py\u001b[0m in \u001b[0;36mgroupby\u001b[1;34m(self, by, axis, level, as_index, sort, group_keys, squeeze, observed, **kwargs)\u001b[0m\n\u001b[0;32m   7892\u001b[0m             \u001b[0msqueeze\u001b[0m\u001b[1;33m=\u001b[0m\u001b[0msqueeze\u001b[0m\u001b[1;33m,\u001b[0m\u001b[1;33m\u001b[0m\u001b[1;33m\u001b[0m\u001b[0m\n\u001b[0;32m   7893\u001b[0m             \u001b[0mobserved\u001b[0m\u001b[1;33m=\u001b[0m\u001b[0mobserved\u001b[0m\u001b[1;33m,\u001b[0m\u001b[1;33m\u001b[0m\u001b[1;33m\u001b[0m\u001b[0m\n\u001b[1;32m-> 7894\u001b[1;33m             \u001b[1;33m**\u001b[0m\u001b[0mkwargs\u001b[0m\u001b[1;33m\u001b[0m\u001b[1;33m\u001b[0m\u001b[0m\n\u001b[0m\u001b[0;32m   7895\u001b[0m         )\n\u001b[0;32m   7896\u001b[0m \u001b[1;33m\u001b[0m\u001b[0m\n",
      "\u001b[1;32m~\\Anaconda3\\lib\\site-packages\\pandas\\core\\groupby\\groupby.py\u001b[0m in \u001b[0;36mgroupby\u001b[1;34m(obj, by, **kwds)\u001b[0m\n\u001b[0;32m   2520\u001b[0m         \u001b[1;32mraise\u001b[0m \u001b[0mTypeError\u001b[0m\u001b[1;33m(\u001b[0m\u001b[1;34m\"invalid type: {}\"\u001b[0m\u001b[1;33m.\u001b[0m\u001b[0mformat\u001b[0m\u001b[1;33m(\u001b[0m\u001b[0mobj\u001b[0m\u001b[1;33m)\u001b[0m\u001b[1;33m)\u001b[0m\u001b[1;33m\u001b[0m\u001b[1;33m\u001b[0m\u001b[0m\n\u001b[0;32m   2521\u001b[0m \u001b[1;33m\u001b[0m\u001b[0m\n\u001b[1;32m-> 2522\u001b[1;33m     \u001b[1;32mreturn\u001b[0m \u001b[0mklass\u001b[0m\u001b[1;33m(\u001b[0m\u001b[0mobj\u001b[0m\u001b[1;33m,\u001b[0m \u001b[0mby\u001b[0m\u001b[1;33m,\u001b[0m \u001b[1;33m**\u001b[0m\u001b[0mkwds\u001b[0m\u001b[1;33m)\u001b[0m\u001b[1;33m\u001b[0m\u001b[1;33m\u001b[0m\u001b[0m\n\u001b[0m",
      "\u001b[1;32m~\\Anaconda3\\lib\\site-packages\\pandas\\core\\groupby\\groupby.py\u001b[0m in \u001b[0;36m__init__\u001b[1;34m(self, obj, keys, axis, level, grouper, exclusions, selection, as_index, sort, group_keys, squeeze, observed, **kwargs)\u001b[0m\n\u001b[0;32m    389\u001b[0m                 \u001b[0msort\u001b[0m\u001b[1;33m=\u001b[0m\u001b[0msort\u001b[0m\u001b[1;33m,\u001b[0m\u001b[1;33m\u001b[0m\u001b[1;33m\u001b[0m\u001b[0m\n\u001b[0;32m    390\u001b[0m                 \u001b[0mobserved\u001b[0m\u001b[1;33m=\u001b[0m\u001b[0mobserved\u001b[0m\u001b[1;33m,\u001b[0m\u001b[1;33m\u001b[0m\u001b[1;33m\u001b[0m\u001b[0m\n\u001b[1;32m--> 391\u001b[1;33m                 \u001b[0mmutated\u001b[0m\u001b[1;33m=\u001b[0m\u001b[0mself\u001b[0m\u001b[1;33m.\u001b[0m\u001b[0mmutated\u001b[0m\u001b[1;33m,\u001b[0m\u001b[1;33m\u001b[0m\u001b[1;33m\u001b[0m\u001b[0m\n\u001b[0m\u001b[0;32m    392\u001b[0m             )\n\u001b[0;32m    393\u001b[0m \u001b[1;33m\u001b[0m\u001b[0m\n",
      "\u001b[1;32m~\\Anaconda3\\lib\\site-packages\\pandas\\core\\groupby\\grouper.py\u001b[0m in \u001b[0;36m_get_grouper\u001b[1;34m(obj, key, axis, level, sort, observed, mutated, validate)\u001b[0m\n\u001b[0;32m    619\u001b[0m                 \u001b[0min_axis\u001b[0m\u001b[1;33m,\u001b[0m \u001b[0mname\u001b[0m\u001b[1;33m,\u001b[0m \u001b[0mlevel\u001b[0m\u001b[1;33m,\u001b[0m \u001b[0mgpr\u001b[0m \u001b[1;33m=\u001b[0m \u001b[1;32mFalse\u001b[0m\u001b[1;33m,\u001b[0m \u001b[1;32mNone\u001b[0m\u001b[1;33m,\u001b[0m \u001b[0mgpr\u001b[0m\u001b[1;33m,\u001b[0m \u001b[1;32mNone\u001b[0m\u001b[1;33m\u001b[0m\u001b[1;33m\u001b[0m\u001b[0m\n\u001b[0;32m    620\u001b[0m             \u001b[1;32melse\u001b[0m\u001b[1;33m:\u001b[0m\u001b[1;33m\u001b[0m\u001b[1;33m\u001b[0m\u001b[0m\n\u001b[1;32m--> 621\u001b[1;33m                 \u001b[1;32mraise\u001b[0m \u001b[0mKeyError\u001b[0m\u001b[1;33m(\u001b[0m\u001b[0mgpr\u001b[0m\u001b[1;33m)\u001b[0m\u001b[1;33m\u001b[0m\u001b[1;33m\u001b[0m\u001b[0m\n\u001b[0m\u001b[0;32m    622\u001b[0m         \u001b[1;32melif\u001b[0m \u001b[0misinstance\u001b[0m\u001b[1;33m(\u001b[0m\u001b[0mgpr\u001b[0m\u001b[1;33m,\u001b[0m \u001b[0mGrouper\u001b[0m\u001b[1;33m)\u001b[0m \u001b[1;32mand\u001b[0m \u001b[0mgpr\u001b[0m\u001b[1;33m.\u001b[0m\u001b[0mkey\u001b[0m \u001b[1;32mis\u001b[0m \u001b[1;32mnot\u001b[0m \u001b[1;32mNone\u001b[0m\u001b[1;33m:\u001b[0m\u001b[1;33m\u001b[0m\u001b[1;33m\u001b[0m\u001b[0m\n\u001b[0;32m    623\u001b[0m             \u001b[1;31m# Add key to exclusions\u001b[0m\u001b[1;33m\u001b[0m\u001b[1;33m\u001b[0m\u001b[1;33m\u001b[0m\u001b[0m\n",
      "\u001b[1;31mKeyError\u001b[0m: 'journal'"
     ]
    }
   ],
   "source": [
    "paper_11_20.groupby('journal').size()\n",
    "df_journal = paper_11_20.groupby('journal').size().sort_values(ascending = False).head(10)\n",
    "f, ax = plt.subplots(1,1,figsize = (16,8))\n",
    "df_journal.plot.pie(autopct = '%1.1f%%')\n",
    "ax.set_ylabel('')"
   ]
  },
  {
   "cell_type": "code",
   "execution_count": null,
   "metadata": {},
   "outputs": [],
   "source": []
  },
  {
   "cell_type": "code",
   "execution_count": null,
   "metadata": {},
   "outputs": [],
   "source": []
  },
  {
   "cell_type": "code",
   "execution_count": null,
   "metadata": {},
   "outputs": [],
   "source": []
  },
  {
   "cell_type": "code",
   "execution_count": null,
   "metadata": {},
   "outputs": [],
   "source": []
  },
  {
   "cell_type": "code",
   "execution_count": null,
   "metadata": {},
   "outputs": [],
   "source": []
  },
  {
   "cell_type": "code",
   "execution_count": null,
   "metadata": {},
   "outputs": [],
   "source": []
  },
  {
   "cell_type": "code",
   "execution_count": null,
   "metadata": {},
   "outputs": [],
   "source": []
  },
  {
   "cell_type": "code",
   "execution_count": null,
   "metadata": {},
   "outputs": [],
   "source": []
  },
  {
   "cell_type": "code",
   "execution_count": null,
   "metadata": {},
   "outputs": [],
   "source": []
  },
  {
   "cell_type": "code",
   "execution_count": null,
   "metadata": {},
   "outputs": [],
   "source": []
  },
  {
   "cell_type": "code",
   "execution_count": null,
   "metadata": {},
   "outputs": [],
   "source": []
  },
  {
   "cell_type": "code",
   "execution_count": null,
   "metadata": {},
   "outputs": [],
   "source": []
  }
 ],
 "metadata": {
  "kernelspec": {
   "display_name": "Python 3",
   "language": "python",
   "name": "python3"
  },
  "language_info": {
   "codemirror_mode": {
    "name": "ipython",
    "version": 3
   },
   "file_extension": ".py",
   "mimetype": "text/x-python",
   "name": "python",
   "nbconvert_exporter": "python",
   "pygments_lexer": "ipython3",
   "version": "3.7.4"
  }
 },
 "nbformat": 4,
 "nbformat_minor": 2
}
